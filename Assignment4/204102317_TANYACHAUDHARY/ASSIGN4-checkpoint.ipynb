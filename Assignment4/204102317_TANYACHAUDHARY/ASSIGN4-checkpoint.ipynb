{
 "cells": [
  {
   "cell_type": "markdown",
   "metadata": {},
   "source": [
    "# DISCRETE FOURIER TRANSFORM"
   ]
  },
  {
   "cell_type": "markdown",
   "metadata": {},
   "source": [
    "## Functions to implement discrete fourier transform and Inverse Discrete fourier transform"
   ]
  },
  {
   "cell_type": "code",
   "execution_count": 1,
   "metadata": {},
   "outputs": [],
   "source": [
    "import numpy as np\n",
    "import time\n",
    "import matplotlib.pyplot as plt\n",
    "\n",
    "\n",
    "def DFT(arr,N,n):\n",
    "    out=[]\n",
    "    for k in range(0,N):\n",
    "        sum=0\n",
    "        for i in n:\n",
    "            res=(arr[i]*np.exp(-1j*2*i*np.pi*k/N))\n",
    "            sum = sum + res\n",
    "            \n",
    "        out.append(sum)\n",
    "        \n",
    "    return out\n",
    "        \n",
    "        \n",
    "\n",
    "def IDFT(arr,N):\n",
    "    out1=[]\n",
    "    for i in range(0,N):\n",
    "        sum=0\n",
    "        for l in range(0,N):\n",
    "            ans=(arr[l]*np.exp(1j*2*i*np.pi*l/N))\n",
    "            sum = sum + ans.real\n",
    "            \n",
    "        out1.append(sum/N)\n",
    "        \n",
    "    return out1"
   ]
  },
  {
   "cell_type": "markdown",
   "metadata": {},
   "source": [
    "## Function to implement Circular Convolution of given two sequences using the above function."
   ]
  },
  {
   "cell_type": "markdown",
   "metadata": {},
   "source": [
    "###  Using the convolution property of DFT , we know that circular convolution in time domain results in mutplication of those two signals in another domain.\n",
    "### So here first we individually calculate the DFT of two sequences and then multiply them , after that computing the IDFT of the result obtained ,we give us the output of circular convolution."
   ]
  },
  {
   "cell_type": "code",
   "execution_count": 6,
   "metadata": {},
   "outputs": [
    {
     "data": {
      "text/plain": [
       "[5.999999999999999,\n",
       " 6.000000000000001,\n",
       " 6.000000000000001,\n",
       " 5.999999999999998,\n",
       " 5.999999999999998,\n",
       " 6.000000000000001,\n",
       " 6.000000000000001]"
      ]
     },
     "execution_count": 6,
     "metadata": {},
     "output_type": "execute_result"
    }
   ],
   "source": [
    "n = np.arange(0, 7, 1) \n",
    "x=[1,2,3,0,0,0,0]\n",
    "h=[1,1,1,1,1,1,1]\n",
    "res=DFT(x,7,n)\n",
    "res1=DFT(h,7,n)\n",
    "mul=[]\n",
    "for j in n:\n",
    "    mul.append(res[j].real*res1[j].real)\n",
    "    \n",
    "\n",
    "out=IDFT(mul,7)\n",
    "out\n"
   ]
  },
  {
   "cell_type": "markdown",
   "metadata": {},
   "source": [
    "## Now we define a function from scratch to evaluate circular convolution"
   ]
  },
  {
   "cell_type": "code",
   "execution_count": 7,
   "metadata": {},
   "outputs": [
    {
     "name": "stdout",
     "output_type": "stream",
     "text": [
      "6 6 6 6 6 6 6 "
     ]
    }
   ],
   "source": [
    "import numpy as np\n",
    "import time\n",
    "import matplotlib.pyplot as plt\n",
    "\n",
    "\n",
    "max = 7 \n",
    "  \n",
    "\n",
    "def convolution(x, h, n, m): \n",
    "    row = [0] * max \n",
    "    col = [0] * max \n",
    "    out = [0] * max \n",
    "    mat = [[0 for i in range(max)]  \n",
    "            for j in range(max)]  \n",
    "  \n",
    "    # Finding the maximum size between the two sequences\n",
    "    if(n > m ): \n",
    "        maxSize = n\n",
    "    else: \n",
    "        maxSize = m\n",
    "  \n",
    "    \n",
    "    for i in range(maxSize): # Padding zeroes \n",
    "        if (i >= n): \n",
    "            row[i] = 0\n",
    "        else: \n",
    "            row[i] = x[i] \n",
    "          \n",
    "   \n",
    "    for i in range(maxSize): # Padding zeroes\n",
    "        if (i >= m): \n",
    "            col[i] = 0 \n",
    "        else: \n",
    "            col[i] = h[i] \n",
    "          \n",
    "    # Generating 2D matrix \n",
    "    k = 0 \n",
    "    d = 0 \n",
    "  \n",
    "    for i in range(maxSize): \n",
    "        curIndex = k - d; \n",
    "        for j in range(maxSize): \n",
    "            mat[j][i] = row[curIndex % maxSize]; \n",
    "            curIndex += 1; \n",
    "          \n",
    "        k = maxSize; \n",
    "        d += 1; \n",
    "  \n",
    "    # Computing result by matrix multiplication\n",
    "    for i in range(maxSize): \n",
    "        for j in range(maxSize): \n",
    "            out[i] += mat[i][j] * col[j]; \n",
    "          \n",
    "        print(out[i], end = \" \"); \n",
    "  \n",
    "\n",
    "\n",
    "x = [1,2,3,0,0,0,0 ] \n",
    "n = len(x) \n",
    "h = [1,1,1,1,1,1,1] \n",
    "m = len(h) \n",
    "  \n",
    "res=convolution(x, h, n, m)\n"
   ]
  },
  {
   "cell_type": "markdown",
   "metadata": {},
   "source": [
    "###  A signal is given as x(t) = cos2πf t where f = 30 Hz. The signal is sampled at 100 times per second for 10 seconds and then its DFT is computed. Plot  the spectrum versus frequency in Hz. What is the magnitude of DFT at 35 Hz? Is this value non-zero? If so then why?\n"
   ]
  },
  {
   "cell_type": "code",
   "execution_count": 48,
   "metadata": {},
   "outputs": [
    {
     "data": {
      "image/png": "[encoded data removed]",
      "text/plain": [
       "<Figure size 432x288 with 1 Axes>"
      ]
     },
     "metadata": {
      "needs_background": "light"
     },
     "output_type": "display_data"
    }
   ],
   "source": [
    "def impulsetrain(a, n): \n",
    "    delta =[] \n",
    "    for sample in n: \n",
    "        if sample == a: \n",
    "            delta.append(1) \n",
    "        else: \n",
    "            delta.append(0) \n",
    "              \n",
    "    return delta \n",
    "\n",
    "f=30\n",
    "n=np.arange(0,0.91,0.01)\n",
    "out=[]\n",
    "for i in n:\n",
    "    res=impulsetrain(i, n)\n",
    "    x=np.cos(2*np.pi*f*t)\n",
    "    out=x*res\n",
    "    plt.stem(n,out) #sampled signal\n",
    "    \n",
    "\n",
    "    \n",
    "    \n"
   ]
  },
  {
   "cell_type": "markdown",
   "metadata": {},
   "source": [
    "### Given two sequences x and y , we have to find a sequence h such that y is the circular convolution of x and h using DFT and IDFT"
   ]
  },
  {
   "cell_type": "code",
   "execution_count": 30,
   "metadata": {},
   "outputs": [
    {
     "name": "stdout",
     "output_type": "stream",
     "text": [
      "The impulse response is [-0.44999999999999984, -1.1102230246251565e-16, -0.55, -2.4]\n",
      "The DFT of impulse response is [(-3+0j), (0.49999999999999983-2j), (0.20000000000000007+6532495741278149j), (0.5000000000000003+1.9999999999999996j)]\n"
     ]
    }
   ],
   "source": [
    "## First we have computed dft of x any y and using property find the DFT of h.\n",
    "\n",
    "n = np.arange(0, 4, 1) \n",
    "x=[1,-3,1,5]\n",
    "y=[7,-7,-9,-3]\n",
    "dft_x=DFT(x,4,n)\n",
    "dft_y=DFT(y,4,n)\n",
    "dft_h =[]\n",
    "for i in  n:\n",
    "    h=dft_y[i]/dft_x[i]\n",
    "    dft_h.append(h)\n",
    "\n",
    "impulse = IDFT(dft_h,4)\n",
    "print('The impulse response is', impulse)\n",
    "print('The DFT of impulse response is', dft_h)\n"
   ]
  },
  {
   "cell_type": "markdown",
   "metadata": {},
   "source": [
    "## Compute the energy of a signal and of it's DFT transform and find the relation between them"
   ]
  },
  {
   "cell_type": "code",
   "execution_count": 9,
   "metadata": {},
   "outputs": [
    {
     "data": {
      "text/plain": [
       "2.2857142857135524"
      ]
     },
     "execution_count": 9,
     "metadata": {},
     "output_type": "execute_result"
    }
   ],
   "source": [
    "import numpy as np \n",
    "import matplotlib.pyplot as plt\n",
    "\n",
    "n=np.arange(0,50,1)\n",
    "energy=0\n",
    "for i in  n:\n",
    "    seq=(3/4)**(2*i)\n",
    "    energy = seq + energy\n",
    "    \n",
    "energy"
   ]
  },
  {
   "cell_type": "code",
   "execution_count": 10,
   "metadata": {},
   "outputs": [
    {
     "data": {
      "text/plain": [
       "114.2857142856776"
      ]
     },
     "execution_count": 10,
     "metadata": {},
     "output_type": "execute_result"
    }
   ],
   "source": [
    "n=np.arange(0,50,1)\n",
    "\n",
    "\n",
    "out=[]\n",
    "for i in  n:\n",
    "    seq=(3/4)**(i)\n",
    "    out.append(seq)\n",
    "    \n",
    "\n",
    "    \n",
    "sum=0\n",
    "y=DFT(out,50,n)\n",
    "\n",
    "\n",
    "for j in  n:\n",
    "    ene=(abs(y[j]))**2\n",
    "    sum = sum + ene\n",
    "    \n",
    "sum"
   ]
  },
  {
   "cell_type": "markdown",
   "metadata": {},
   "source": [
    "###  Above we have computed the energy of the sequence which is 2.28 and energy of X[k] is 114.28 , relating them both we realize Energy of X[K]= Energy of X(n) * 50 , which is the time period of the sequence .\n"
   ]
  },
  {
   "cell_type": "markdown",
   "metadata": {},
   "source": [
    "##  Modify the function of DFT to compute the DTFS  coefficients and plot the spectrum of these coefficients "
   ]
  },
  {
   "cell_type": "code",
   "execution_count": 11,
   "metadata": {},
   "outputs": [
    {
     "data": {
      "text/plain": [
       "<StemContainer object of 3 artists>"
      ]
     },
     "execution_count": 11,
     "metadata": {},
     "output_type": "execute_result"
    },
    {
     "data": {
      "image/png": "[encoded data removed]",
      "text/plain": [
       "<Figure size 432x288 with 1 Axes>"
      ]
     },
     "metadata": {
      "needs_background": "light"
     },
     "output_type": "display_data"
    }
   ],
   "source": [
    "import numpy as np \n",
    "import matplotlib.pyplot as plt \n",
    "\n",
    "\n",
    "sqr=[]\n",
    "n = np.arange(-5, 32, 1)\n",
    "for i in n:\n",
    "    if i%16>=0 and i%16<=7:\n",
    "        sqr.append(1)\n",
    "        \n",
    "    else:\n",
    "        sqr.append(0)\n",
    "        \n",
    "\n",
    "def dtfs(arr,N,n):\n",
    "    \n",
    "    out=[]\n",
    "    for k in range(0,N):\n",
    "        sum=0\n",
    "        for i in n:\n",
    "            res=(arr[i]*np.exp(-1j*2*i*np.pi*k/N))\n",
    "            sum = sum + res\n",
    "            \n",
    "        out.append(sum/N)\n",
    "    \n",
    "    \n",
    "    return out\n",
    "\n",
    "out=[]\n",
    "n=np.arange(0,16,1)    \n",
    "res=dtfs(sqr,16,n)\n",
    "for i in n:\n",
    "    mag = abs(res[i])\n",
    "    out.append(mag)\n",
    "    \n",
    "plt.stem(n,out,use_line_collection=True)"
   ]
  },
  {
   "cell_type": "markdown",
   "metadata": {},
   "source": [
    "# DISCRETE COSINE TRANSFORM"
   ]
  },
  {
   "cell_type": "markdown",
   "metadata": {},
   "source": [
    "###  Functions to implement DCT and IDCT"
   ]
  },
  {
   "cell_type": "code",
   "execution_count": 13,
   "metadata": {},
   "outputs": [
    {
     "data": {
      "text/plain": [
       "[101.82337649086283, 144.0, 144.0, 144.0, 144.0, 144.0, 144.0, 144.0]"
      ]
     },
     "execution_count": 13,
     "metadata": {},
     "output_type": "execute_result"
    }
   ],
   "source": [
    "import numpy as np\n",
    "import time\n",
    "import matplotlib.pyplot as plt\n",
    "\n",
    "\n",
    "def DCT(arr,N,n):\n",
    "    out=[]\n",
    "    for m in range(0,N):\n",
    "        sum=0\n",
    "        for i in n:\n",
    "            if m==0:\n",
    "                res=(arr[i]*(np.cos(np.pi*m*(2*i+1)/2*N)))*(1/np.sqrt(2))\n",
    "            else:\n",
    "                res=arr[i]*(np.cos(np.pi*m*(2*i+1)/2*N))\n",
    "                \n",
    "            sum = sum + res\n",
    "            \n",
    "        out.append(sum*np.sqrt(2/N))\n",
    "        \n",
    "    return out\n",
    "        \n",
    "        \n",
    "def IDCT(arr,N,n):\n",
    "    out1=[]\n",
    "    for k in range(0,N):\n",
    "        sum=0\n",
    "        for i in n:\n",
    "            if k==0:\n",
    "                res=(arr[i]*(np.cos(np.pi*k*(2*i+1)/2*N)))*(1/np.sqrt(2))\n",
    "            else:\n",
    "                res=arr[i]*(np.cos(np.pi*k*(2*i+1)/2*N))\n",
    "                \n",
    "            sum = sum + res\n",
    "            \n",
    "        out1.append(sum*np.sqrt(2/N))\n",
    "        \n",
    "    return out1\n",
    "\n",
    "\n",
    "n=np.arange(0,8,1)\n",
    "x=[8,16,24,32,40,48,56,64]\n",
    "res=DCT(x,8,n)\n",
    "res"
   ]
  },
  {
   "cell_type": "markdown",
   "metadata": {},
   "source": [
    "## For the above DCT , discarding the last four coefficients and keeping the first four ones , find it's energy and compare it with energy of X(n)."
   ]
  },
  {
   "cell_type": "code",
   "execution_count": 3,
   "metadata": {},
   "outputs": [
    {
     "data": {
      "text/plain": [
       "72576.0"
      ]
     },
     "execution_count": 3,
     "metadata": {},
     "output_type": "execute_result"
    }
   ],
   "source": [
    "# Energy of first four coefficients of DCT \n",
    "\n",
    "n=np.arange(0,8,1)\n",
    "x=[8,16,24,32,40,48,56,64]\n",
    "res=DCT(x,8,n)\n",
    "sum=0\n",
    "for i in  range(0,4):\n",
    "    ene=(abs(res[i]))**(2)\n",
    "    sum = sum + ene\n",
    "    \n",
    "sum\n"
   ]
  },
  {
   "cell_type": "code",
   "execution_count": 4,
   "metadata": {},
   "outputs": [
    {
     "data": {
      "text/plain": [
       "13056"
      ]
     },
     "execution_count": 4,
     "metadata": {},
     "output_type": "execute_result"
    }
   ],
   "source": [
    "# Energy of X(n)\n",
    "\n",
    "sum=0\n",
    "for i in  n:\n",
    "    ene=(x[i])**(2)\n",
    "    sum = sum + ene\n",
    "    \n",
    "sum"
   ]
  },
  {
   "cell_type": "markdown",
   "metadata": {},
   "source": [
    "## Plot both the sequence X(n) and the obtained sequence from  the DCT version  using inverse Discrete cosine transform"
   ]
  },
  {
   "cell_type": "code",
   "execution_count": 19,
   "metadata": {},
   "outputs": [
    {
     "data": {
      "text/plain": [
       "<StemContainer object of 3 artists>"
      ]
     },
     "execution_count": 19,
     "metadata": {},
     "output_type": "execute_result"
    },
    {
     "data": {
      "image/png": "[encoded data removed]",
      "text/plain": [
       "<Figure size 432x288 with 2 Axes>"
      ]
     },
     "metadata": {
      "needs_background": "light"
     },
     "output_type": "display_data"
    }
   ],
   "source": [
    "n=np.arange(0,8,1)\n",
    "x=[8,16,24,32,40,48,56,64]\n",
    "res=DCT(x,8,n)\n",
    "inverse = IDCT(res,8,n)\n",
    "plot1=[]\n",
    "plot2=[]\n",
    "for i in n:\n",
    "    plot1.append(x[i])\n",
    "    plot2.append(inverse[i])\n",
    "    \n",
    "plt.subplot(1,2,1)\n",
    "plt.title('Plot for X(n)')\n",
    "plt.stem(n,plot1)\n",
    "plt.subplot(1,2,2)\n",
    "plt.title('Plot for Inverse of DCT of X(n)')\n",
    "plt.stem(n,plot2)"
   ]
  },
  {
   "cell_type": "markdown",
   "metadata": {},
   "source": [
    "## To compute the Mean Square Error between the two signals Using the DCT "
   ]
  },
  {
   "cell_type": "code",
   "execution_count": 20,
   "metadata": {},
   "outputs": [
    {
     "data": {
      "text/plain": [
       "2005479.7086345311"
      ]
     },
     "execution_count": 20,
     "metadata": {},
     "output_type": "execute_result"
    }
   ],
   "source": [
    "n=np.arange(0,8,1)\n",
    "x=[8,16,24,32,40,48,56,64]\n",
    "res=DCT(x,8,n)\n",
    "inverse = IDCT(res,8,n)\n",
    "sum=0\n",
    "for i in  n:\n",
    "    ene=((abs(inverse[i]))-x[i])**(2)\n",
    "    sum = sum + ene\n",
    "    \n",
    "sum"
   ]
  },
  {
   "cell_type": "markdown",
   "metadata": {},
   "source": [
    "##  To compute the Mean Square Error between the two signals Using the DFT"
   ]
  },
  {
   "cell_type": "code",
   "execution_count": 23,
   "metadata": {},
   "outputs": [
    {
     "data": {
      "text/plain": [
       "4.405788155659351e-27"
      ]
     },
     "execution_count": 23,
     "metadata": {},
     "output_type": "execute_result"
    }
   ],
   "source": [
    "n=np.arange(0,8,1)\n",
    "x=[8,16,24,32,40,48,56,64]\n",
    "res=DFT(x,8,n)\n",
    "inverse = IDFT(res,8)\n",
    "sum=0\n",
    "for i in  n:\n",
    "    ene=((abs(inverse[i]))-x[i])**(2)\n",
    "    sum = sum + ene\n",
    "    \n",
    "sum"
   ]
  },
  {
   "cell_type": "markdown",
   "metadata": {},
   "source": [
    "### Above we have computed the mean square error using both DCT and DFT , the results obtained shows that evaluating the signal back from IDCT yields higher error whereas using IDFT we have got very less or neglible mean square error."
   ]
  },
  {
   "cell_type": "code",
   "execution_count": null,
   "metadata": {},
   "outputs": [],
   "source": []
  }
 ],
 "metadata": {
  "kernelspec": {
   "display_name": "Python 3",
   "language": "python",
   "name": "python3"
  },
  "language_info": {
   "codemirror_mode": {
    "name": "ipython",
    "version": 3
   },
   "file_extension": ".py",
   "mimetype": "text/x-python",
   "name": "python",
   "nbconvert_exporter": "python",
   "pygments_lexer": "ipython3",
   "version": "3.8.5"
  }
 },
 "nbformat": 4,
 "nbformat_minor": 4
}
