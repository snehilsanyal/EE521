{
  "nbformat": 4,
  "nbformat_minor": 0,
  "metadata": {
    "colab": {
      "name": "Assignment4.ipynb",
      "provenance": [],
      "collapsed_sections": []
    },
    "kernelspec": {
      "name": "python3",
      "display_name": "Python 3"
    }
  },
  "cells": [
    {
      "cell_type": "markdown",
      "metadata": {
        "id": "87_JHTBxy6sx"
      },
      "source": [
        "#**Assignment 4**"
      ]
    },
    {
      "cell_type": "code",
      "metadata": {
        "id": "PNkl4mAO38mL"
      },
      "source": [
        "#importing libraries\r\n",
        "import numpy as np\r\n",
        "import matplotlib.pyplot as plt"
      ],
      "execution_count": 136,
      "outputs": []
    },
    {
      "cell_type": "markdown",
      "metadata": {
        "id": "bqybvp7K2Rem"
      },
      "source": [
        "#Discrete Fourier Transform\r\n",
        "\\begin{equation}X(k) =\\displaystyle\\sum_{n=0}^{N-1}x[n]*e^{−j(2π/N)kn}\\end{equation}\r\n"
      ]
    },
    {
      "cell_type": "code",
      "metadata": {
        "id": "ZdKzBAEsEGYN"
      },
      "source": [
        "def dft(x):\r\n",
        "  N=len(x)\r\n",
        "  y=np.zeros(N,dtype=complex)\r\n",
        "  for k in range(N):\r\n",
        "    for n in range(N):\r\n",
        "      y[k]+=x[n]*np.exp(-1j*(2*np.pi*k*n)/N)\r\n",
        "  return y"
      ],
      "execution_count": 166,
      "outputs": []
    },
    {
      "cell_type": "markdown",
      "metadata": {
        "id": "xDbU8_ZoFMBC"
      },
      "source": [
        "#Inverse Discrete Fourier Transform\r\n",
        "\\begin{equation}x[n] =\\frac{1}N\\displaystyle\\sum_{k=0}^{N-1}X(k)*e^{j(2π/N)kn}\\end{equation}"
      ]
    },
    {
      "cell_type": "code",
      "metadata": {
        "id": "XBSc9eYVFS3D"
      },
      "source": [
        "def idft(x,N):\r\n",
        "  y=np.zeros(N,dtype=complex)\r\n",
        "  for k in range(N):\r\n",
        "    for n in range(len(x)):\r\n",
        "      y[k]+=(1/N)*x[n]*np.exp(1j*(2*np.pi*k*n)/N)\r\n",
        "  return y"
      ],
      "execution_count": 167,
      "outputs": []
    },
    {
      "cell_type": "markdown",
      "metadata": {
        "id": "q-q2AeIC6vK5"
      },
      "source": [
        "#Circular Convolution\r\n",
        "\\begin{equation}y[n] =\\sum_{k=0}^{N-1}g[k]h[<n-k>_N]\\end{equation}"
      ]
    },
    {
      "cell_type": "code",
      "metadata": {
        "id": "uOdxEj9qshl_"
      },
      "source": [
        "def circ_conv(g,h):\r\n",
        "  N=max(len(g),len(h))\r\n",
        "  y=np.zeros(N)\r\n",
        "  for k in range(len(g)):\r\n",
        "    for n in range(len(h)):\r\n",
        "      if k-n>=0:\r\n",
        "        y[k]+=g[n]*h[k-n]\r\n",
        "      if k-n<0:\r\n",
        "        y[k]+=g[n]*h[N+k-n]\r\n",
        "  return y"
      ],
      "execution_count": 139,
      "outputs": []
    },
    {
      "cell_type": "markdown",
      "metadata": {
        "id": "cjCgBkchGTS2"
      },
      "source": [
        "###Circular convolution of **x[n] = [1,2,3,0,0,0,0]** and **h[n] = [1,1,1,1,1,1,1]**"
      ]
    },
    {
      "cell_type": "code",
      "metadata": {
        "colab": {
          "base_uri": "https://localhost:8080/",
          "height": 270
        },
        "id": "6X-Q56hYsKRL",
        "outputId": "db9615f3-1dfa-465c-9f6e-57564ab0b828"
      },
      "source": [
        "x = [1,2,3,0,0,0,0]\r\n",
        "h = [1,1,1,1,1,1,1]\r\n",
        "y=circ_conv(x,h)\r\n",
        "print(\"Circular Convolution of x[n] and h[n] is\",y)\r\n",
        "\r\n",
        "plt.figure(1,figsize=(15,5))\r\n",
        "plt.subplot(1,3,1)\r\n",
        "plt.stem(x,use_line_collection=True)\r\n",
        "plt.title(\"Input Sequence\")\r\n",
        "plt.xlabel(\"discrete time\")\r\n",
        "plt.ylabel(\"x[n]\")\r\n",
        "plt.grid(True)\r\n",
        "\r\n",
        "plt.subplot(1,3,2)\r\n",
        "plt.stem(h,use_line_collection=True)\r\n",
        "plt.title(\"Impulse\")\r\n",
        "plt.xlabel(\"discrete time\")\r\n",
        "plt.ylabel(\"h[n]\")\r\n",
        "plt.grid(True)\r\n",
        "\r\n",
        "plt.subplot(1,3,3)\r\n",
        "plt.stem(y,use_line_collection=True)\r\n",
        "plt.title(\"Circularly Convolved output\")\r\n",
        "plt.xlabel(\"discrete time\")\r\n",
        "plt.ylabel(\"y[n]\")\r\n",
        "plt.grid(True)"
      ],
      "execution_count": 140,
      "outputs": [
        {
          "output_type": "stream",
          "text": [
            "Circular Convolution of x[n] and h[n] is [6. 6. 6. 6. 6. 6. 6.]\n"
          ],
          "name": "stdout"
        },
        {
          "output_type": "display_data",
          "data": {
            "image/png": "[encoded data removed]",
            "text/plain": [
              "<Figure size 1080x360 with 3 Axes>"
            ]
          },
          "metadata": {
            "tags": [],
            "needs_background": "light"
          }
        }
      ]
    },
    {
      "cell_type": "code",
      "metadata": {
        "id": "7P8Eg_K_9gXT",
        "colab": {
          "base_uri": "https://localhost:8080/",
          "height": 256
        },
        "outputId": "4b92c055-a17c-4117-b656-366db9cc82a1"
      },
      "source": [
        "f=30 #frequency of cosine signal\r\n",
        "t = np.linspace(0,0.91,91)\r\n",
        "x=np.cos(2*np.pi*f*t) #given signal\r\n",
        "n = np.arange(91)\r\n",
        "X = dft(x)\r\n",
        "fseq= (n*100)/91\r\n",
        "\r\n",
        "\r\n",
        "plt.figure(1,figsize=(30, 10))\r\n",
        "plt.subplot(1,2,1)\r\n",
        "plt.stem(fseq,abs(X),use_line_collection=True)\r\n",
        "plt.title(\"Magnitude spectrum of DFT\")\r\n",
        "plt.xlabel(\"Frequency(Hz)\")\r\n",
        "plt.grid()\r\n",
        "\r\n",
        "plt.subplot(1,2,2)\r\n",
        "plt.stem(fseq,np.angle(X),use_line_collection=True)\r\n",
        "plt.title(\"Phase spectrum of DFT\")\r\n",
        "plt.xlabel(\"Frequency(Hz)\")\r\n",
        "plt.grid()\r\n",
        "\r\n",
        "m= X[np.where(np.round(fseq)==35)]\r\n",
        "print(\"Magnitude at 35 Hz\",abs(m)[0])"
      ],
      "execution_count": 141,
      "outputs": [
        {
          "output_type": "stream",
          "text": [
            "Magnitude at 35 Hz 3.338937852553705\n"
          ],
          "name": "stdout"
        },
        {
          "output_type": "display_data",
          "data": {
            "image/png": "[encoded data removed]",
            "text/plain": [
              "<Figure size 2160x720 with 2 Axes>"
            ]
          },
          "metadata": {
            "tags": [],
            "needs_background": "light"
          }
        }
      ]
    },
    {
      "cell_type": "markdown",
      "metadata": {
        "id": "yjGeMmj9_pF3"
      },
      "source": [
        "Inspite of using a 30Hz sinusoidal function we are getting a non-zero magnitude<br>of fourier transform because it is an approximated version of the actual<br> fourier transform,i.e.,DTFT"
      ]
    },
    {
      "cell_type": "code",
      "metadata": {
        "id": "p3uIDb_pshaJ",
        "colab": {
          "base_uri": "https://localhost:8080/"
        },
        "outputId": "f84ef172-0bc3-4ce2-c650-6d076073198d"
      },
      "source": [
        "x = [1,-3,1,5]\r\n",
        "y = [7,-7,-9,-3]\r\n",
        "X=dft(x)\r\n",
        "Y=dft(y)\r\n",
        "H=np.zeros(len(x),dtype=complex)\r\n",
        "\r\n",
        "for i in range(len(x)):\r\n",
        "  H[i]=Y[i]/X[i]\r\n",
        "h=idft(H,len(x))\r\n",
        "print(np.abs(h))"
      ],
      "execution_count": 142,
      "outputs": [
        {
          "output_type": "stream",
          "text": [
            "[1.63312394e+15 1.63312394e+15 1.63312394e+15 1.63312394e+15]\n"
          ],
          "name": "stdout"
        }
      ]
    },
    {
      "cell_type": "markdown",
      "metadata": {
        "id": "Y1GnY6KgOnPG"
      },
      "source": [
        "\\begin{equation}x[n]  = (3/4)^nu[n]\\end{equation}\r\n",
        "\\begin{equation} 0 ≤ n ≤ 50\\end{equation}"
      ]
    },
    {
      "cell_type": "code",
      "metadata": {
        "colab": {
          "base_uri": "https://localhost:8080/"
        },
        "id": "FUvU1lrVLxka",
        "outputId": "e23202f2-908b-4bc3-87c7-576a003e1d68"
      },
      "source": [
        "#Unit step function definition\r\n",
        "def unit_step(n):\r\n",
        "  return 1*(n>=0)\r\n",
        "\r\n",
        "n=np.arange(0,50)\r\n",
        "u=pow(3/4,n)*unit_step(n)\r\n",
        "\r\n",
        "E=np.sum(np.square(u))\r\n",
        "print(\"Energy of x[n] is \",E)\r\n",
        "\r\n"
      ],
      "execution_count": 143,
      "outputs": [
        {
          "output_type": "stream",
          "text": [
            "Energy of x[n] is  2.285714285713553\n"
          ],
          "name": "stdout"
        }
      ]
    },
    {
      "cell_type": "code",
      "metadata": {
        "colab": {
          "base_uri": "https://localhost:8080/"
        },
        "id": "sHgURkNrQFBl",
        "outputId": "b570c384-8b82-44b3-cc11-47eaa47e73b1"
      },
      "source": [
        "U=np.zeros(len(n),dtype=complex)\r\n",
        "U=dft(u)# dft of u\r\n",
        "\r\n",
        "e=np.sum(np.square(abs(U)))\r\n",
        "print(\"Energy of DFT of x[n] is \",e)\r\n",
        "print(\"Energy (X(k))/50 is \",e/50)"
      ],
      "execution_count": 144,
      "outputs": [
        {
          "output_type": "stream",
          "text": [
            "Energy of DFT of x[n] is  114.28571428567757\n",
            "Energy (X(k))/50 is  2.2857142857135515\n"
          ],
          "name": "stdout"
        }
      ]
    },
    {
      "cell_type": "markdown",
      "metadata": {
        "id": "3C6GGv9rBPrZ"
      },
      "source": [
        "The Energy of x[n] is equal to the energy of fourier transform of x[n] divided by number of samples which follows from Parseval's Theorem:\r\n",
        "\\begin{equation}\\displaystyle\\sum_{n=0}^{N-1}|x[n]|^2=\\frac{1}{N}\\displaystyle\\sum_{n=0}^{N-1}|X[k]|^2\\end{equation}"
      ]
    },
    {
      "cell_type": "markdown",
      "metadata": {
        "id": "cKOgJVDayeaz"
      },
      "source": [
        "##Modified DFT function for DTFS Coefficients"
      ]
    },
    {
      "cell_type": "code",
      "metadata": {
        "id": "BXzWC5RIQpwZ",
        "colab": {
          "base_uri": "https://localhost:8080/",
          "height": 295
        },
        "outputId": "c21c81b8-5689-4a44-8440-06dc8e94efb6"
      },
      "source": [
        "def mod_dft(x,p):\r\n",
        "  y=np.zeros(p,dtype=complex)\r\n",
        "  for k in range(p):\r\n",
        "    for n in range(p):\r\n",
        "      y[k]+=x[n]*np.exp(-1j*(2*np.pi*k*n)/p)\r\n",
        "  return y\r\n",
        "\r\n",
        "x=np.zeros(32,dtype=complex)\r\n",
        "\r\n",
        "for i in range(32):\r\n",
        "  if i%16<8:\r\n",
        "    x[i]=1\r\n",
        "\r\n",
        "a=(mod_dft(x,16))/len(x)\r\n",
        "plt.xlabel(\"k\")\r\n",
        "plt.ylabel(\"Magnitude of coefficients\")\r\n",
        "plt.title('a[k]')\r\n",
        "plt.stem(abs(a),use_line_collection=True)\r\n",
        "plt.grid(True)"
      ],
      "execution_count": 145,
      "outputs": [
        {
          "output_type": "display_data",
          "data": {
            "image/png": "[encoded data removed]",
            "text/plain": [
              "<Figure size 432x288 with 1 Axes>"
            ]
          },
          "metadata": {
            "tags": [],
            "needs_background": "light"
          }
        }
      ]
    },
    {
      "cell_type": "markdown",
      "metadata": {
        "id": "RzTubbGXbFWb"
      },
      "source": [
        "#Discrete Cosine Transform\r\n",
        "\\begin{equation}X(m) =\\sqrt{\\frac{2}{N}}\\displaystyle\\sum_{n=0}^{N-1}x[n]c_{m}cos{[\\frac{πm}{2N}(2n+1)]}\\end{equation}"
      ]
    },
    {
      "cell_type": "code",
      "metadata": {
        "id": "MbULx5JEbJ38"
      },
      "source": [
        "x= [8, 16, 24, 32, 40, 48, 56, 64]\r\n",
        "\r\n",
        "def dct(x,N):\r\n",
        "  c=np.ones(N)\r\n",
        "  c[0]=np.sqrt(1/2)\r\n",
        "  y=np.zeros(N)\r\n",
        "  for m in range(N):\r\n",
        "    for n in range(N):\r\n",
        "      y[m]+=np.sqrt(2/N)*x[n]*c[m]*np.cos(np.pi*m*(2*n+1)/(2*N))\r\n",
        "  return y\r\n",
        "\r\n",
        "y=dct(x,len(x))\r\n",
        "y_=y[:4]"
      ],
      "execution_count": 163,
      "outputs": []
    },
    {
      "cell_type": "code",
      "metadata": {
        "id": "pf5zgRNYkJf4",
        "colab": {
          "base_uri": "https://localhost:8080/"
        },
        "outputId": "c3f75a40-03ea-4f4a-8a76-522c34d65ba6"
      },
      "source": [
        "print(\"Energy of x[n] is \",np.sum(np.square(x)))\r\n",
        "print(\"Energy of compressed DCT of x[n] is \",abs(np.sum(np.square(y_))))"
      ],
      "execution_count": 157,
      "outputs": [
        {
          "output_type": "stream",
          "text": [
            "Energy of x[n] is  13056\n",
            "Energy of compressed DCT of x[n] is  13053.252307055182\n"
          ],
          "name": "stdout"
        }
      ]
    },
    {
      "cell_type": "markdown",
      "metadata": {
        "id": "ONFz8pqVlBbX"
      },
      "source": [
        "#Inverse Discrete Cosine Transform\r\n",
        "\\begin{equation}x[n] =\\sqrt{\\frac{2}{N}}\\displaystyle\\sum_{m=0}^{N-1}X(m)c_{m}cos{[\\frac{πm}{2N}(2n+1)]}\\end{equation}"
      ]
    },
    {
      "cell_type": "code",
      "metadata": {
        "id": "TjzruV_Gkxfg"
      },
      "source": [
        "def idct(x,N):\r\n",
        "  c=np.ones(N)\r\n",
        "  c[0]=np.sqrt(1/2)\r\n",
        "  y=np.zeros(N)\r\n",
        "  for n in range(N):\r\n",
        "    for m in range(len(x)):\r\n",
        "      y[n]+=np.sqrt(2/N)*x[m]*c[m]*np.cos(np.pi*m*(2*n+1)/(2*N))\r\n",
        "  return y"
      ],
      "execution_count": 148,
      "outputs": []
    },
    {
      "cell_type": "markdown",
      "metadata": {
        "id": "PPQcRPhvstQy"
      },
      "source": [
        "##Reconstruction of signal from its DCT(first four coefficients)"
      ]
    },
    {
      "cell_type": "code",
      "metadata": {
        "colab": {
          "base_uri": "https://localhost:8080/",
          "height": 350
        },
        "id": "4xbB1QbJCh9W",
        "outputId": "3f4a0082-4570-47c2-b3e7-6e71e9e2524b"
      },
      "source": [
        "X=idct(y_,len(x)) #inverse dct\r\n",
        "\r\n",
        "plt.figure(1,figsize=(10,5))\r\n",
        "plt.subplot(1,2,1)\r\n",
        "plt.stem(x,use_line_collection=True)\r\n",
        "plt.title(\"Original Signal\")\r\n",
        "plt.xlabel(\"discrete time\")\r\n",
        "plt.ylabel(\"x[n]\")\r\n",
        "plt.grid(True)\r\n",
        "\r\n",
        "plt.subplot(1,2,2)\r\n",
        "plt.stem(X,use_line_collection=True)\r\n",
        "plt.title(\"Reconstructed Signal\")\r\n",
        "plt.xlabel(\"discrete time\")\r\n",
        "plt.ylabel(\"x[n]\")\r\n",
        "plt.grid(True)"
      ],
      "execution_count": 149,
      "outputs": [
        {
          "output_type": "display_data",
          "data": {
            "image/png": "[encoded data removed]",
            "text/plain": [
              "<Figure size 720x360 with 2 Axes>"
            ]
          },
          "metadata": {
            "tags": [],
            "needs_background": "light"
          }
        }
      ]
    },
    {
      "cell_type": "code",
      "metadata": {
        "colab": {
          "base_uri": "https://localhost:8080/"
        },
        "id": "T-IgJW1zCyOx",
        "outputId": "d785cf39-20d8-4c29-b5c1-677a2a172de9"
      },
      "source": [
        "mse=(np.sum((X-x)**2))/len(x)\r\n",
        "print(\"Mean squre error of reconstructed signal from first four coefficients of DCT w.r.t. original signal is \",mse)"
      ],
      "execution_count": 150,
      "outputs": [
        {
          "output_type": "stream",
          "text": [
            "Mean squre error of reconstructed signal from first four coefficients of DCT w.r.t. original signal is  0.34346161810222964\n"
          ],
          "name": "stdout"
        }
      ]
    },
    {
      "cell_type": "markdown",
      "metadata": {
        "id": "ckRY4bSFutYo"
      },
      "source": [
        "##Reconstruction of signal from its DFT(first four coefficients)"
      ]
    },
    {
      "cell_type": "code",
      "metadata": {
        "colab": {
          "base_uri": "https://localhost:8080/",
          "height": 350
        },
        "id": "mjGQt6mYGOuL",
        "outputId": "59cbfe1d-29bd-41ef-d66c-81fd8687bc50"
      },
      "source": [
        "y=dft(x)\r\n",
        "y_=y[:4]\r\n",
        "X=idft(y_,len(x))\r\n",
        "\r\n",
        "plt.figure(1,figsize=(10,5))\r\n",
        "plt.subplot(1,2,1)\r\n",
        "plt.stem(np.abs(x),use_line_collection=True)\r\n",
        "plt.title(\"Original Signal\")\r\n",
        "plt.xlabel(\"discrete time\")\r\n",
        "plt.ylabel(\"x[n]\")\r\n",
        "plt.grid(True)\r\n",
        "\r\n",
        "plt.subplot(1,2,2)\r\n",
        "plt.stem(np.abs(X),use_line_collection=True)\r\n",
        "plt.title(\"Reconstructed Signal\")\r\n",
        "plt.xlabel(\"discrete time\")\r\n",
        "plt.ylabel(\"x[n]\")\r\n",
        "plt.grid(True)\r\n"
      ],
      "execution_count": 168,
      "outputs": [
        {
          "output_type": "display_data",
          "data": {
            "image/png": "[encoded data removed]",
            "text/plain": [
              "<Figure size 720x360 with 2 Axes>"
            ]
          },
          "metadata": {
            "tags": [],
            "needs_background": "light"
          }
        }
      ]
    },
    {
      "cell_type": "code",
      "metadata": {
        "colab": {
          "base_uri": "https://localhost:8080/"
        },
        "id": "OiERzs3XHkin",
        "outputId": "83a1be4d-b935-43da-b35f-e519a0c0edc9"
      },
      "source": [
        "mse=(np.sum((X-x)**2))/len(x)\r\n",
        "print(\"Mean squre error of reconstructed signal from first four coefficients of DFT w.r.t. original signal is \",abs(mse))"
      ],
      "execution_count": 152,
      "outputs": [
        {
          "output_type": "stream",
          "text": [
            "Mean squre error of reconstructed signal from first four coefficients of DFT w.r.t. original signal is  15.999999999999961\n"
          ],
          "name": "stdout"
        }
      ]
    },
    {
      "cell_type": "markdown",
      "metadata": {
        "id": "_2anPzjDCfxw"
      },
      "source": [
        "#Observation:\r\n",
        "* Energy of signal is almost equal to the energy corresponding to the first four coefficients of DCT.\r\n",
        "* The Mean square error calculated using the reconstructed x[n] from first four coefficients of DCT is less than the corresponding mean square calculated from DFT\r\n",
        "* The reconstructed signal from DCT of x[n] resembles the original signal.\r\n",
        "* The reconstructed signal from DFT of x[n] does not resemble the original signal"
      ]
    },
    {
      "cell_type": "markdown",
      "metadata": {
        "id": "Yqh9J_AgDjWi"
      },
      "source": [
        "#Conclusion:\r\n",
        "* Since,only first four coefficients are sufficient to reconstruct the signal in case of DCT the information of signal is stored in low frequency components of signal.\r\n",
        "* Hence,DCT has application in image compression as it achieves energy compaction using lesser bits to store the information"
      ]
    }
  ]
}