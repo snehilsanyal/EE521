{
  "nbformat": 4,
  "nbformat_minor": 0,
  "metadata": {
    "colab": {
      "name": "dsp_assgn4.ipynb",
      "provenance": []
    },
    "kernelspec": {
      "name": "python3",
      "display_name": "Python 3"
    }
  },
  "cells": [
    {
      "cell_type": "code",
      "metadata": {
        "id": "3WVPDdDkA42E"
      },
      "source": [
        "import numpy as np\r\n",
        "import cmath\r\n",
        "import math\r\n",
        "import matplotlib.pyplot as plt\r\n",
        "from mpl_toolkits import mplot3d\r\n",
        "from matplotlib import cm"
      ],
      "execution_count": 20,
      "outputs": []
    },
    {
      "cell_type": "markdown",
      "metadata": {
        "id": "sVnYnDKqCa1C"
      },
      "source": [
        "DFT"
      ]
    },
    {
      "cell_type": "code",
      "metadata": {
        "id": "KsTgdR-gCWNY"
      },
      "source": [
        "\r\n",
        "def W(N,n):\r\n",
        "  return np.round(np.exp(complex(0,(-2*np.pi*n)/N)),3)\r\n",
        "###########\r\n",
        "def dft_mat(N):\r\n",
        "  mat=list()\r\n",
        "  for i in range(N):\r\n",
        "    a=list()\r\n",
        "    for j in range(N):\r\n",
        "      a.append(W(N,i*j))\r\n",
        "    mat.append(a)\r\n",
        "  mat=np.array(mat)\r\n",
        "  return mat\r\n",
        " ################\r\n",
        "def idft_mat(N):\r\n",
        "  mat=list()\r\n",
        "  for i in range(N):\r\n",
        "    a=list()\r\n",
        "    for j in range(N):\r\n",
        "      a.append(W(N,-i*j)/N)\r\n",
        "    mat.append(a)\r\n",
        "  mat=np.array(mat)\r\n",
        "  return mat\r\n",
        "############\r\n",
        "\r\n",
        "# define DFT\r\n",
        "def dft(xn,N):\r\n",
        "  xn=np.array(xn)\r\n",
        "  Wk=dft_mat(N)\r\n",
        "  Xk=np.dot(Wk,xn.T)\r\n",
        "  return Xk.tolist()\r\n",
        " \r\n",
        "#inverse DFT\r\n",
        "def idft(xk,N):\r\n",
        "  xk=np.array(xk)\r\n",
        "  Wk=idft_mat(N)\r\n",
        "  xn=np.dot(Wk,xk.T)\r\n",
        "  return xn.tolist()\r\n",
        "\r\n",
        "# #circulant matrix\r\n",
        "def Right_shift(list1,n):\r\n",
        "  return list1[-n:] + list1[:-n]\r\n",
        "\r\n",
        "#circulant matrix\r\n",
        "def circulant_mat(h):\r\n",
        "  n=len(h)\r\n",
        "  mat=list()\r\n",
        "  for i in range(n):\r\n",
        "    mat.append(h)\r\n",
        "    h=Right_shift(h,1)\r\n",
        "  mat=np.array(mat)\r\n",
        "  return mat.T\r\n",
        "\r\n",
        "#convolution\r\n",
        "def circular_conv(hn,xn):\r\n",
        "  xn=np.array(xn)\r\n",
        "  mat=circulant_mat(hn)\r\n",
        "  yn=np.dot(mat,xn.T)\r\n",
        "  return yn.tolist()\r\n",
        "    "
      ],
      "execution_count": 21,
      "outputs": []
    },
    {
      "cell_type": "code",
      "metadata": {
        "colab": {
          "base_uri": "https://localhost:8080/"
        },
        "id": "CI0dux1gd37Q",
        "outputId": "24dba590-fd5d-4269-832f-8309999a0caf"
      },
      "source": [
        "x=[1,2,3,0,0,0]\r\n",
        "h=[1,1,1,1,1,1]\r\n",
        "y=circular_conv(x,h)\r\n",
        "print(y)"
      ],
      "execution_count": 22,
      "outputs": [
        {
          "output_type": "stream",
          "text": [
            "[6, 6, 6, 6, 6, 6]\n"
          ],
          "name": "stdout"
        }
      ]
    },
    {
      "cell_type": "code",
      "metadata": {
        "colab": {
          "base_uri": "https://localhost:8080/",
          "height": 265
        },
        "id": "uaTaCs_lHgjw",
        "outputId": "199756c3-52bb-4cde-e8bd-d883f5dd739c"
      },
      "source": [
        "f=30\r\n",
        "n=np.arange(0,40,1)\r\n",
        "t=(n/100)*10\r\n",
        "xn=np.cos(2*np.pi*f*t)\r\n",
        "Xk=dft(xn,len(n))\r\n",
        "magnitude=[abs(Xk[i]) for i in range(len(Xk))]\r\n",
        "plt.stem(magnitude,use_line_collection=True)\r\n",
        "plt.show()\r\n"
      ],
      "execution_count": 23,
      "outputs": [
        {
          "output_type": "display_data",
          "data": {
            "image/png": "[encoded data removed]",
            "text/plain": [
              "<Figure size 432x288 with 1 Axes>"
            ]
          },
          "metadata": {
            "tags": [],
            "needs_background": "light"
          }
        }
      ]
    },
    {
      "cell_type": "code",
      "metadata": {
        "id": "ozX3huBXJslQ",
        "colab": {
          "base_uri": "https://localhost:8080/"
        },
        "outputId": "5d7a47e9-fa6b-47fb-9270-b5f6cff516fc"
      },
      "source": [
        "x=[1,-3,1,5]\r\n",
        "y=[7,-7,-9,-3]\r\n",
        "N=4\r\n",
        "xk=dft(x,N)\r\n",
        "yk=dft(y,N)\r\n",
        "# hk=[yk[i]/xk[i] for i in range(N)]\r\n",
        "# h=idft(hk,N)\r\n",
        "print(xk)\r\n",
        "print(yk)\r\n"
      ],
      "execution_count": 24,
      "outputs": [
        {
          "output_type": "stream",
          "text": [
            "[(4+0j), 8j, 0j, -8j]\n",
            "[(-12+0j), (16+4j), (8+0j), (16-4j)]\n"
          ],
          "name": "stdout"
        }
      ]
    },
    {
      "cell_type": "markdown",
      "metadata": {
        "id": "Osmu60D0Vx0V"
      },
      "source": [
        "for above input and output the system h(n) will not exist. bcz X(2)=0, and when we will find H(2)=Y(k)/X(k)\r\n",
        "that will be not possible."
      ]
    },
    {
      "cell_type": "code",
      "metadata": {
        "colab": {
          "base_uri": "https://localhost:8080/"
        },
        "id": "ygjhYiLbRBEM",
        "outputId": "25867277-583b-4b41-ddba-47632a657640"
      },
      "source": [
        "def energy(x):\r\n",
        "  return np.round(sum([abs(i)**2 for i in x]),3)\r\n",
        "n=np.arange(0,50,1)\r\n",
        "xn=[(.75)**i for i in n]\r\n",
        "e1=energy(xn)\r\n",
        "Xk=dft(xn,len(xn))\r\n",
        "e2=energy(Xk)\r\n",
        "print(e1)\r\n",
        "print(e2)"
      ],
      "execution_count": 25,
      "outputs": [
        {
          "output_type": "stream",
          "text": [
            "2.286\n",
            "114.308\n"
          ],
          "name": "stdout"
        }
      ]
    },
    {
      "cell_type": "markdown",
      "metadata": {
        "id": "iceuyIlX8aKk"
      },
      "source": [
        "in above result we can se that e2=N*e1. so this is Parseval's theorem.\r\n",
        "\r\n",
        "![image.png](data:image/png;base64,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)"
      ]
    },
    {
      "cell_type": "markdown",
      "metadata": {
        "id": "6LCkyx_HYWoH"
      },
      "source": [
        "yes! it is possible to find dtfs using dft"
      ]
    },
    {
      "cell_type": "markdown",
      "metadata": {
        "id": "zwlvLgkymXrz"
      },
      "source": [
        "DCT\r\n"
      ]
    },
    {
      "cell_type": "code",
      "metadata": {
        "id": "DHnwW7Fo9wIE"
      },
      "source": [
        "def cm(m):\r\n",
        "  if m==0:\r\n",
        "    return (1/(2**.5))\r\n",
        "  return 1\r\n",
        "\r\n",
        "def dct(xn):\r\n",
        "  N=len(xn)\r\n",
        "  xm=list()\r\n",
        "  for m in range(N):\r\n",
        "    sum=0\r\n",
        "    for n in range(N):\r\n",
        "      sum+=xn[n]*cm(m)*np.cos(np.pi*m*(2*n+1)/(2*N))\r\n",
        "    xm.append(np.round(sum*(2/N)**.5,3))\r\n",
        "  return xm\r\n",
        "\r\n",
        "def idct(xm):\r\n",
        "  N=len(xm)\r\n",
        "  xn=list()\r\n",
        "  for n in range(N):\r\n",
        "    sum=0\r\n",
        "    for m in range(N):\r\n",
        "      sum+=xm[m]*cm(m)*np.cos(np.pi*m*(2*n+1)/(2*N))\r\n",
        "    xn.append(np.round(sum*(2/N)**.5,3))\r\n",
        "  return xn"
      ],
      "execution_count": 26,
      "outputs": []
    },
    {
      "cell_type": "code",
      "metadata": {
        "id": "DCHxJkIt9oZj",
        "colab": {
          "base_uri": "https://localhost:8080/"
        },
        "outputId": "522aad0b-2cc1-4960-92a7-d6afe454460e"
      },
      "source": [
        "xn=[8,16,24,32,40,48,56,64]\r\n",
        "xm=dct(xn)\r\n",
        "xn1=idct(xm)\r\n",
        "e_xn=energy(xn)\r\n",
        "e_xm=energy(xm[0:4])\r\n",
        "mse=sum([(xn[i]-xn1[i])**2 for i in range(len(xn))])\r\n",
        "print(\"energy of sequence x(n)=  \",e_xn)\r\n",
        "print(\"energy of first four cosine coeficient = \",e_xm)\r\n",
        "print(\"error= \",np.round(e_xn-e_xm,3))\r\n",
        "print(\"mean square error= \",mse)"
      ],
      "execution_count": 27,
      "outputs": [
        {
          "output_type": "stream",
          "text": [
            "energy of sequence x(n)=   13056\n",
            "energy of first four cosine coeficient =  13053.222\n",
            "error=  2.778\n",
            "mean square error=  0.0\n"
          ],
          "name": "stdout"
        }
      ]
    },
    {
      "cell_type": "markdown",
      "metadata": {
        "id": "_mL0pgIdZ08N"
      },
      "source": [
        "in above we can see that the maximum energy of sgnal is in low frequency component of cosine term coefficient"
      ]
    },
    {
      "cell_type": "code",
      "metadata": {
        "colab": {
          "base_uri": "https://localhost:8080/",
          "height": 295
        },
        "id": "n4PtQv_09GYF",
        "outputId": "4828473f-da3c-489b-8f9d-f3a1c76f530d"
      },
      "source": [
        "plt.figure(1)\r\n",
        "n=np.arange(0,8,1)\r\n",
        "plt.stem(n,xn,'r',markerfmt='o',label='original',use_line_collection=True)\r\n",
        "plt.stem(n,xn1,'b',markerfmt='x',label='idct',use_line_collection=True)\r\n",
        "plt.title(\"x(n) and idct(x(n))\")\r\n",
        "plt.xlabel(\"n...>\")\r\n",
        "plt.legend()\r\n",
        "plt.show()"
      ],
      "execution_count": 28,
      "outputs": [
        {
          "output_type": "display_data",
          "data": {
            "image/png": "[encoded data removed]",
            "text/plain": [
              "<Figure size 432x288 with 1 Axes>"
            ]
          },
          "metadata": {
            "tags": [],
            "needs_background": "light"
          }
        }
      ]
    }
  ]
}