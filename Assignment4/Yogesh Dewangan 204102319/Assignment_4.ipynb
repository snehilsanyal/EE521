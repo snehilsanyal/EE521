{
 "cells": [
  {
   "cell_type": "code",
   "execution_count": 128,
   "metadata": {},
   "outputs": [],
   "source": [
    "import numpy as np\n",
    "import matplotlib.pyplot as plt\n",
    "from matplotlib import style\n",
    "import math\n",
    "import random\n",
    "import cmath\n",
    "from mpl_toolkits.mplot3d import Axes3D\n",
    "from matplotlib import cm"
   ]
  },
  {
   "cell_type": "markdown",
   "metadata": {},
   "source": [
    "# • Discrete Fourier Transform:"
   ]
  },
  {
   "cell_type": "code",
   "execution_count": 129,
   "metadata": {},
   "outputs": [],
   "source": [
    "# Defining the function for computing the DFT:\n",
    "\n",
    "def DFT(N,x_n):\n",
    "    \n",
    "    dft = []\n",
    "    for k in range(N):\n",
    "        x = 0\n",
    "        for n in range(N):\n",
    "                a = x_n[n]*complex(np.cos(((2*np.pi)/N)*k*n),-np.sin(((2*np.pi)/N)*k*n))\n",
    "                x = x+a                     \n",
    "        dft.append(x)\n",
    "    return(dft)\n",
    "\n",
    "# Defining the function for computing the IDFT:\n",
    "\n",
    "def IDFT(N,x_n):\n",
    "    \n",
    "    idft = []\n",
    "    for n in range(N):\n",
    "        x = 0\n",
    "        for k in range(N):\n",
    "                a = x_n[k]*complex(np.cos(((2*np.pi)/N)*n*k),np.sin(((2*np.pi)/N)*k*n))\n",
    "                x = x+a                     \n",
    "        idft.append(x/N)\n",
    "    return(idft)\n",
    "\n",
    "# Defining the function for rotation of array:\n",
    "\n",
    "def rotate(arr,d):\n",
    "        n = len(arr)\n",
    "        arr[:]=arr[d:n]+arr[0:d]\n",
    "        return(arr)"
   ]
  },
  {
   "cell_type": "code",
   "execution_count": 130,
   "metadata": {},
   "outputs": [],
   "source": [
    "# Function for finding circular convolution:\n",
    "\n",
    "\n",
    "def cir(x1_n,x2_n):\n",
    "    y = []\n",
    "    x2_n = x2_n[::-1]\n",
    "    for j in range(len(x1_n)):\n",
    "        x = 0\n",
    "        s = rotate(x2_n,-1)\n",
    "        for i in range(len(x1_n)):\n",
    "            x = x + (x1_n[i]*s[i])\n",
    "        y.append(x)\n",
    "    return(y)"
   ]
  },
  {
   "cell_type": "code",
   "execution_count": 131,
   "metadata": {},
   "outputs": [
    {
     "name": "stdout",
     "output_type": "stream",
     "text": [
      "The circular convolution of given sequence is:\n",
      "\n",
      " [6, 6, 6, 6, 6, 6, 6]\n"
     ]
    }
   ],
   "source": [
    "# Finding the circular convolution of given sequence:\n",
    "\n",
    "x = [1,2,3,0,0,0,0] \n",
    "h = [1,1,1,1,1,1,1]\n",
    "\n",
    "circular = cir(x,h)\n",
    "print(\"The circular convolution of given sequence is:\\n\\n\",circular)"
   ]
  },
  {
   "cell_type": "code",
   "execution_count": 132,
   "metadata": {
    "scrolled": false
   },
   "outputs": [
    {
     "name": "stderr",
     "output_type": "stream",
     "text": [
      "C:\\ProgramData\\Anaconda3\\lib\\site-packages\\numpy\\core\\_asarray.py:85: ComplexWarning: Casting complex values to real discards the imaginary part\n",
      "  return array(a, dtype, copy=False, order=order)\n",
      "C:\\ProgramData\\Anaconda3\\lib\\site-packages\\numpy\\core\\_asarray.py:85: ComplexWarning: Casting complex values to real discards the imaginary part\n",
      "  return array(a, dtype, copy=False, order=order)\n"
     ]
    },
    {
     "data": {
      "image/png": "[encoded data removed]",
      "text/plain": [
       "<Figure size 1080x576 with 2 Axes>"
      ]
     },
     "metadata": {},
     "output_type": "display_data"
    }
   ],
   "source": [
    "\"\"\"\n",
    "A signal is given as x(t) = cos2πft where f = 30 Hz. The signal is sampled\n",
    "at 100 times per second for 0.91 seconds and then its DFT is computed\n",
    "\"\"\"\n",
    "\n",
    "# defining the given sequence:\n",
    "\n",
    "t = np.arange(0,91,1)\n",
    "x_t = []\n",
    "for i in (t):\n",
    "    x1_t = np.cos(2*np.pi*30*i)\n",
    "    x_t.append(x1_t)\n",
    "    \n",
    "# Computing the DFT of above sequence:\n",
    "\n",
    "X_k = DFT(91,x_t) \n",
    "\n",
    "plt.figure(figsize=(15,8))\n",
    "plt.subplot(2,1,1)\n",
    "plt.stem(x_t,use_line_collection=True)\n",
    "style.use(\"ggplot\")\n",
    "plt.grid(color=\"gray\")\n",
    "plt.title(\"x_t\")\n",
    "\n",
    "plt.subplot(2,1,2)\n",
    "plt.stem(X_k,use_line_collection=True)\n",
    "plt.title(\"DFT of Sampled signal\")\n",
    "\n",
    "plt.show()"
   ]
  },
  {
   "cell_type": "code",
   "execution_count": 149,
   "metadata": {},
   "outputs": [
    {
     "name": "stdout",
     "output_type": "stream",
     "text": [
      "The impulse response find using DFT and IDFT is given by:\n",
      "\n",
      " [1.63312394e+15 1.63312394e+15 1.63312394e+15 1.63312394e+15]\n"
     ]
    }
   ],
   "source": [
    "\"\"\"\n",
    "Consider the two sequences x = [1, −3, 1, 5] and y = [7, −7, −9, −3]. Does\n",
    "there exist a sequence h such that y is the circular convolution of x and\n",
    "h. Find h using DFT and IDFT\n",
    "\"\"\"\n",
    "\n",
    "x = [1,-3,1,5]\n",
    "y = [7,-7,-9,-3]\n",
    "\n",
    "# finnding the DFT of x and y:\n",
    "\n",
    "x_k = DFT(4,x)\n",
    "y_k = DFT(4,y)\n",
    "\n",
    "#Implulse respnce is given by = H = x_k/y_k\n",
    "\n",
    "H = []\n",
    "for i in range(len(x_k)):\n",
    "        p = y_k[i]/x_k[i]\n",
    "        H.append(p)\n",
    "        \n",
    "h = IDFT(4,H)\n",
    "\n",
    "print(\"The impulse response find using DFT and IDFT is given by:\\n\\n\",np.abs(h))"
   ]
  },
  {
   "cell_type": "code",
   "execution_count": 134,
   "metadata": {},
   "outputs": [],
   "source": [
    "# Defining the function for computing the Energy of sequence:\n",
    "\n",
    "def energy(e):\n",
    "    x = 0\n",
    "    for i in range(len(e)):\n",
    "        energy = (abs(e[i]))**2\n",
    "        x = x + energy\n",
    "    return(x)"
   ]
  },
  {
   "cell_type": "code",
   "execution_count": 151,
   "metadata": {},
   "outputs": [
    {
     "name": "stdout",
     "output_type": "stream",
     "text": [
      "The energy of x_n = \n",
      "\n",
      " 2.285714285713873 \n",
      "\n",
      "The energy of X_k = \n",
      "\n",
      " 2.2408963585426993\n"
     ]
    }
   ],
   "source": [
    "\"\"\"\n",
    "Compute the energy of the signal x[n] = (3/4)^n u[n] for 0 ≤ n ≤ 50.\n",
    "\"\"\"\n",
    "x_n =[]\n",
    "for n in range(0,51):\n",
    "    a = (3/4)**n\n",
    "    x_n.append(a)\n",
    "    \n",
    "energy_x_n = energy(x_n)\n",
    "\n",
    "print(\"The energy of x_n = \\n\\n\",energy_x_n,\"\\n\")\n",
    "\n",
    "DFT_x_n = DFT(50,x_n)\n",
    "\n",
    "energy_X_k = energy(DFT_x_n)\n",
    "\n",
    "print(\"The energy of X_k = \\n\\n\",energy_X_k/len(x_n))\n"
   ]
  },
  {
   "cell_type": "markdown",
   "metadata": {},
   "source": [
    "# • Discrete Cosine Transform:"
   ]
  },
  {
   "cell_type": "code",
   "execution_count": 136,
   "metadata": {},
   "outputs": [],
   "source": [
    "# Defining the Discrete Cosine transform:\n",
    "\n",
    "def DCT(N,x_n):\n",
    "    \n",
    "    dct = []\n",
    "    m =N-1\n",
    "    n =N-1\n",
    "    for i in range(N):\n",
    "        x = 0\n",
    "        for j in range(N):\n",
    "            if (i == 0):\n",
    "                a = (np.sqrt(2/N))*((x_n[j])*(np.sqrt(1/2))*np.cos(((np.pi*i)/(2*N))*(2*j+1)))\n",
    "                x = x+a                     \n",
    "            else:\n",
    "                a = (np.sqrt(2/N))*((x_n[j])*1*np.cos(((np.pi*i)/(2*N))*(2*j+1)))\n",
    "                x = x+a\n",
    "        dct.append(x)\n",
    "    return(dct)\n"
   ]
  },
  {
   "cell_type": "code",
   "execution_count": 137,
   "metadata": {},
   "outputs": [
    {
     "name": "stdout",
     "output_type": "stream",
     "text": [
      "The DCT of the given sequence x_n is :\n",
      "\n",
      " [101.823 -51.539  -0.     -5.388   0.     -1.607  -0.     -0.406]\n"
     ]
    }
   ],
   "source": [
    "# Given x_n and N =>\n",
    "\n",
    "x_n =[8,16,24,32,40,48,56,64] \n",
    "N = 8\n",
    "\n",
    "# Calling the above defind function for computing the DCT of x_n:\n",
    "\n",
    "X_m = DCT(N,x_n)\n",
    "\n",
    "print(\"The DCT of the given sequence x_n is :\\n\\n\",np.round((X_m),3))"
   ]
  },
  {
   "cell_type": "code",
   "execution_count": 152,
   "metadata": {},
   "outputs": [
    {
     "name": "stdout",
     "output_type": "stream",
     "text": [
      "The energy of sequence x_n is:\n",
      "\n",
      " 2.285714285713873 \n",
      "\n",
      "The energy of sequence first four DCT coefficients is:\n",
      "\n",
      " 13053.252307055182\n"
     ]
    }
   ],
   "source": [
    "#  Now keep only the first four DCT coefficients while discarding:\n",
    "\n",
    "X1_m =X_m[0:4]\n",
    "\n",
    "# Computing the energy of x_n:\n",
    "\n",
    "energy_x_n = energy(x_n)\n",
    "\n",
    "# Computing the energy of first four DCT coefficients:\n",
    "\n",
    "energy_X1_m = energy(X1_m)\n",
    "\n",
    "print(\"The energy of sequence x_n is:\\n\\n\",energy_x_n,\"\\n\")\n",
    "\n",
    "print(\"The energy of sequence first four DCT coefficients is:\\n\\n\",energy_X1_m)"
   ]
  },
  {
   "cell_type": "code",
   "execution_count": 139,
   "metadata": {},
   "outputs": [],
   "source": [
    "# Defining the Inverse Discrete fourier transform:\n",
    "\n",
    "\n",
    "def IDCT(x_n):\n",
    "    \n",
    "    idct = []\n",
    "    N = len(x_n)\n",
    "    for i in range(N):\n",
    "        x = 0\n",
    "        for j in range(N):\n",
    "            if (j == 0):\n",
    "                a = (np.sqrt(2/N))*((x_n[j])*(np.sqrt(1/2))*np.cos(((np.pi*j)/(2*N))*(2*i+1)))\n",
    "                x = x+a                     \n",
    "            else:\n",
    "                a = (np.sqrt(2/N))*((x_n[j])*1*np.cos(((np.pi*j)/(2*N))*(2*i+1)))\n",
    "                x = x+a\n",
    "        idct.append(x)\n",
    "    return(idct)"
   ]
  },
  {
   "cell_type": "code",
   "execution_count": 140,
   "metadata": {},
   "outputs": [
    {
     "name": "stdout",
     "output_type": "stream",
     "text": [
      "The inverse DCT of X(m) is :\n",
      "\n",
      " [8.000000000000009, 15.999999999999991, 23.999999999999986, 32.000000000000036, 39.999999999999986, 48.0, 56.00000000000003, 63.99999999999998]\n"
     ]
    }
   ],
   "source": [
    "# finding the IDCT of obtained sequence:\n",
    "\n",
    "x_n_inverse = IDCT(X_m)\n",
    "\n",
    "print(\"The inverse DCT of X(m) is :\\n\\n\",x_n_inverse)"
   ]
  },
  {
   "cell_type": "code",
   "execution_count": 141,
   "metadata": {
    "scrolled": true
   },
   "outputs": [
    {
     "data": {
      "text/plain": [
       "Text(0.5, 1.0, 'IDCT of X[m]')"
      ]
     },
     "execution_count": 141,
     "metadata": {},
     "output_type": "execute_result"
    },
    {
     "data": {
      "image/png": "[encoded data removed]",
      "text/plain": [
       "<Figure size 1080x288 with 2 Axes>"
      ]
     },
     "metadata": {},
     "output_type": "display_data"
    }
   ],
   "source": [
    "#Plotting the x[n] and the inverse dct of X(m)::\n",
    "\n",
    "\n",
    "fig = plt.figure(1,figsize=(15,4))\n",
    "plt.subplot(1,2,1)\n",
    "plt.stem(x_n,use_line_collection=True)\n",
    "plt.title(\"x[n]\")\n",
    "plt.subplot(1,2,2)\n",
    "plt.stem(x_n_inverse,use_line_collection=True)\n",
    "plt.title(\"IDCT of X[m]\")"
   ]
  },
  {
   "cell_type": "code",
   "execution_count": 148,
   "metadata": {},
   "outputs": [
    {
     "name": "stdout",
     "output_type": "stream",
     "text": [
      "The mean square error is between x[n] and inverse IDCT sequence is::\n",
      " 3.8575298265307477e-28\n",
      "we can see the mean square error is almost ZERO\n"
     ]
    }
   ],
   "source": [
    "\"\"\"\n",
    "compute the mean square error between the two signals.\n",
    "\n",
    "\"\"\"\n",
    "# Defining the function for mean square error:\n",
    "\n",
    "def MSE(m,n):\n",
    "    N=len(m)\n",
    "    x=[(m[i]-n[i])**2 for i in range(N)]\n",
    "    y=sum(np.abs(x))\n",
    "    return y/N   \n",
    "\n",
    "# Calling the function for finding the mean square between x[n] and inverse IDCT sequence:\n",
    "\n",
    "x_n =[8,16,24,32,40,48,56,64] \n",
    "mean_square_error = MSE(x_n,x_n_inverse)\n",
    "\n",
    "print(\"The mean square error is between x[n] and inverse IDCT sequence is::\\n\",mean_square_error)\n",
    "print(\"we can see the mean square error is almost ZERO\")"
   ]
  }
 ],
 "metadata": {
  "kernelspec": {
   "display_name": "Python 3",
   "language": "python",
   "name": "python3"
  },
  "language_info": {
   "codemirror_mode": {
    "name": "ipython",
    "version": 3
   },
   "file_extension": ".py",
   "mimetype": "text/x-python",
   "name": "python",
   "nbconvert_exporter": "python",
   "pygments_lexer": "ipython3",
   "version": "3.8.3"
  }
 },
 "nbformat": 4,
 "nbformat_minor": 4
}
