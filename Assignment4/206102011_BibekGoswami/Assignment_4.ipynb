{
 "cells": [
  {
   "cell_type": "code",
   "execution_count": 91,
   "id": "precise-impact",
   "metadata": {},
   "outputs": [],
   "source": [
    "#Importing libraries\n",
    "import numpy as np\n",
    "from matplotlib import pyplot as plt\n",
    "import math"
   ]
  },
  {
   "cell_type": "markdown",
   "id": "attended-father",
   "metadata": {},
   "source": [
    "Discrete Fourier Transform"
   ]
  },
  {
   "cell_type": "code",
   "execution_count": 39,
   "id": "outdoor-indonesia",
   "metadata": {},
   "outputs": [],
   "source": [
    "#Function to rotate the signal once place to the right\n",
    "def r_rotate_one(arr):\n",
    "    op = []\n",
    "    op.append(arr[-1])\n",
    "    for i in range(1,len(arr)):\n",
    "        op.append(arr[i-1])\n",
    "    return op\n",
    "\n",
    "#Function for calculating the circular convolution\n",
    "def circular_convo(x,h):\n",
    "    y = []\n",
    "    y.append(x)\n",
    "    for i in range(len(x)-1):\n",
    "        y.append(r_rotate_one(y[i]))\n",
    "\n",
    "    y = np.transpose(np.array(y))\n",
    "    result = np.dot(y,h)\n",
    "    return result"
   ]
  },
  {
   "cell_type": "code",
   "execution_count": 102,
   "id": "basic-convergence",
   "metadata": {},
   "outputs": [],
   "source": [
    "#Function to calculate the DFT\n",
    "def dft_x(x):\n",
    "    x_k = []\n",
    "    N = len(x)\n",
    "    for i in range(N):\n",
    "        s_r=0\n",
    "        s_i=0\n",
    "        for j in range(N):\n",
    "            s_r += x[j]*np.cos((2*np.pi*i*j)/N) # Calculating the real part\n",
    "            s_i += -1*x[j]*np.sin((2*np.pi*i*j)/N) # Calculating the imaginary part\n",
    "        x_k.append((s_r,s_i)) # Appending both the parts a tuple\n",
    "    return x_k\n",
    "  \n",
    "#Function to calculate the inverse DFT\n",
    "def idft_x(x):\n",
    "    x_n = []\n",
    "    N = len(x)\n",
    "    for i in range(N):\n",
    "        s_r=0\n",
    "        s_i=0\n",
    "        for j in range(N):\n",
    "            s_r += x[j][0]*np.cos((2*np.pi*i*j)/N) # Calculating the real part\n",
    "            s_i += x[j][1]*np.sin((2*np.pi*i*j)/N) # Calculating the imaginary part\n",
    "        x_n.append((s_r/N,s_i/N)) # Appending both the parts a tuple\n",
    "    return x_n\n",
    "\n",
    "# Function to conduct division of two complex number\n",
    "def divc(a,b):\n",
    "    return (a[0]*b[0] + a[1]*b[1])/(b[0]**2+b[1]**2),(a[1]*b[0]+a[0]*b[1])/(b[0]**2+b[1]**2)\n",
    "\n",
    "#Function to calculate the energy of a signal\n",
    "def energy_x(x):\n",
    "    s=0\n",
    "    for i in range(len(x)):\n",
    "        s += np.power(x[i],2)\n",
    "    return s\n",
    "\n",
    "#Function to calculate the energy of the spectrum\n",
    "def energy_f(x):\n",
    "    s=0\n",
    "    for i in range(len(x)):\n",
    "        s += np.power(x[i][0],2)+np.power(x[i][1],2) # Magnitude square\n",
    "    return s\n",
    "\n",
    "#Function that returns the magnitude of the spectrum\n",
    "def mag_dft(x):\n",
    "    mag = []\n",
    "    for i in range(len(x)):\n",
    "        mag.append(math.sqrt(np.power(x[i][0],2)+np.power(x[i][1],2)))\n",
    "    return mag"
   ]
  },
  {
   "cell_type": "code",
   "execution_count": 30,
   "id": "economic-employee",
   "metadata": {},
   "outputs": [
    {
     "name": "stdout",
     "output_type": "stream",
     "text": [
      "[6 6 6 6 6 6 6]\n"
     ]
    }
   ],
   "source": [
    "x = [1,2,3,0,0,0,0]\n",
    "h = np.array([1,1,1,1,1,1,1])\n",
    "\n",
    "result = circular_convo(x,h)\n",
    "print(result)"
   ]
  },
  {
   "cell_type": "code",
   "execution_count": 110,
   "id": "elegant-controversy",
   "metadata": {},
   "outputs": [
    {
     "name": "stderr",
     "output_type": "stream",
     "text": [
      "/opt/anaconda3/envs/myenv/lib/python3.6/site-packages/ipykernel_launcher.py:2: RuntimeWarning: divide by zero encountered in true_divide\n",
      "  \n"
     ]
    },
    {
     "data": {
      "image/png": "[encoded data removed]",
      "text/plain": [
       "<Figure size 432x288 with 1 Axes>"
      ]
     },
     "metadata": {
      "needs_background": "light"
     },
     "output_type": "display_data"
    }
   ],
   "source": [
    "t = np.linspace(0,0.9,100)\n",
    "f = (1/(2*np.pi))/t\n",
    "\n",
    "#Generated cos(2pifct)\n",
    "x_n = np.cos(2*np.pi*30*t)\n",
    "\n",
    "#Computed the DFT of x[n]\n",
    "x_k = dft_x(x_n)\n",
    "\n",
    "#Computed the magnitude of the spectrum\n",
    "mg = mag_dft(x_k)\n",
    "\n",
    "plt.plot(f,mg)\n",
    "plt.xlabel('f in Hz')\n",
    "plt.ylabel('Magnitude of spectrum')\n",
    "plt.title('Spectrum versus frequency')\n",
    "\n",
    "plt.show()"
   ]
  },
  {
   "cell_type": "code",
   "execution_count": 90,
   "id": "plastic-bookmark",
   "metadata": {},
   "outputs": [
    {
     "name": "stdout",
     "output_type": "stream",
     "text": [
      "[-0.45 -0.8  -0.95 -0.8 ]\n"
     ]
    }
   ],
   "source": [
    "x = [1,-3,1,5]\n",
    "y = [7,-7,-9,-3]\n",
    "\n",
    "x_k = dft_x(x)\n",
    "y_k = dft_x(y)\n",
    "\n",
    "#Calculating H[K] using Y[k]/X[k]\n",
    "h_k = []\n",
    "for i in range(len(x_k)):\n",
    "    h_k.append(divc(y_k[i],x_k[i]))\n",
    "\n",
    "#Calculating the inverse DFT to get h[n]\n",
    "h_n = np.array(idft_x(h_k))\n",
    "\n",
    "print(h_n[:,0])"
   ]
  },
  {
   "cell_type": "code",
   "execution_count": 86,
   "id": "adverse-front",
   "metadata": {},
   "outputs": [
    {
     "name": "stdout",
     "output_type": "stream",
     "text": [
      "Relation between energies of x[n] & X[K]: 0.01960784313725491\n"
     ]
    }
   ],
   "source": [
    "n = np.arange(0,51)\n",
    "\n",
    "#Getting the signal x[n]\n",
    "x_n = []\n",
    "for i in range(len(n)):\n",
    "    x_n.append(np.power(3/4,n[i]))\n",
    "    \n",
    "#Calculating energy of x[n]\n",
    "en_xn = energy_x(x_n)\n",
    "\n",
    "#Find the DFT and calculating the energy of the spectrum\n",
    "x_k = dft_x(x_n)\n",
    "en_xk = energy_f(x_k)\n",
    "\n",
    "#Relation between both the energies\n",
    "print(\"Relation between energies of x[n] & X[K]: \"+str(en_xn/en_xk))"
   ]
  },
  {
   "cell_type": "code",
   "execution_count": 79,
   "id": "administrative-brazil",
   "metadata": {},
   "outputs": [],
   "source": [
    "#Square wave from Assignment 3\n",
    "def sq_x_n(n):\n",
    "    y = []\n",
    "    for i in range(len(n)):\n",
    "        if (n[i]<=7 and n[i]>=0) or (n[i]>=16 and n[i]<=23):\n",
    "            y.append(1)\n",
    "        else:\n",
    "            y.append(0)\n",
    "    return y"
   ]
  },
  {
   "cell_type": "code",
   "execution_count": 109,
   "id": "motivated-dealing",
   "metadata": {},
   "outputs": [
    {
     "name": "stderr",
     "output_type": "stream",
     "text": [
      "/opt/anaconda3/envs/myenv/lib/python3.6/site-packages/ipykernel_launcher.py:2: RuntimeWarning: divide by zero encountered in true_divide\n",
      "  \n"
     ]
    },
    {
     "data": {
      "image/png": "[encoded data removed]",
      "text/plain": [
       "<Figure size 432x288 with 1 Axes>"
      ]
     },
     "metadata": {
      "needs_background": "light"
     },
     "output_type": "display_data"
    }
   ],
   "source": [
    "n = np.arange(0,16)\n",
    "w = (1/(2*np.pi))/n\n",
    "\n",
    "x_n = sq_x_n(n)\n",
    "\n",
    "#Coefficients of DTFS are same as DFT of x[n]\n",
    "c_n = np.array(dft_x(x_n))\n",
    "\n",
    "#Computing the magnitude of the spectrum\n",
    "mag = mag_dft(c_n)\n",
    "    \n",
    "plt.plot(w,mag)\n",
    "plt.xlabel('w')\n",
    "plt.ylabel('Magnitude of spectrum')\n",
    "plt.title('Spectrum Plot')\n",
    "\n",
    "plt.show()"
   ]
  },
  {
   "cell_type": "markdown",
   "id": "swiss-gates",
   "metadata": {},
   "source": [
    "Discrete Cosine Transform"
   ]
  },
  {
   "cell_type": "code",
   "execution_count": 94,
   "id": "nonprofit-opening",
   "metadata": {},
   "outputs": [],
   "source": [
    "#Function of cm\n",
    "def c_m(k):\n",
    "    if k==0:\n",
    "        return (1/math.sqrt(2))\n",
    "    else:\n",
    "        return 1\n",
    "\n",
    "#Function to compute the DCT\n",
    "def dct_x(x):\n",
    "    N = len(x)\n",
    "    x_k = []\n",
    "    for i in range(len(x)):\n",
    "        s=0\n",
    "        for j in range(N):\n",
    "            s += x[j]*c_m(i)*np.cos(((2*j)+1)*((np.pi*i)/(2*N)))\n",
    "        x_k.append(math.sqrt(2/N)*s)\n",
    "    return x_k\n",
    "\n",
    "#Function to compute the inverse DCT\n",
    "def idct_x(x):\n",
    "    N = len(x)\n",
    "    x_k = []\n",
    "    for i in range(N):\n",
    "        s=0\n",
    "        for j in range(N):\n",
    "            s += x[j]*c_m(i)*np.cos(((2*j)+1)*((np.pi*i)/(2*N)))\n",
    "        x_k.append(math.sqrt(2/N)*s)\n",
    "    return x_k\n",
    "\n",
    "#Function to calculate mean square error\n",
    "def mean_sq_error(x_o,x_p):\n",
    "    N = min(len(x_o),len(x_p))\n",
    "    s=0\n",
    "    for i in range(N):\n",
    "        s += np.power(x_o[i]-x_p[i],2)\n",
    "    return s/N"
   ]
  },
  {
   "cell_type": "code",
   "execution_count": 95,
   "id": "normal-texture",
   "metadata": {},
   "outputs": [
    {
     "name": "stdout",
     "output_type": "stream",
     "text": [
      "Enrgy of x[n] is 13056\n",
      "Enrgy of X[4] is 13053.252307055178\n",
      "Mean Square Error: 297.49320967377116\n"
     ]
    },
    {
     "data": {
      "text/plain": [
       "Text(0.5, 1.0, 'Inverse DCT Signal')"
      ]
     },
     "execution_count": 95,
     "metadata": {},
     "output_type": "execute_result"
    },
    {
     "data": {
      "image/png": "[encoded data removed]",
      "text/plain": [
       "<Figure size 576x1080 with 2 Axes>"
      ]
     },
     "metadata": {
      "needs_background": "light"
     },
     "output_type": "display_data"
    }
   ],
   "source": [
    "x = [8, 16, 24, 32, 40, 48, 56, 64]\n",
    "n = np.arange(0,8)\n",
    "\n",
    "#Computing energy of the signal\n",
    "en_xn = energy_x(x)\n",
    "print(\"Enrgy of x[n] is \"+str(en_xn))\n",
    "\n",
    "#Calculating DCT coefficients\n",
    "x_k = dct_x(x)\n",
    "#Keeping only the first four DCT coefficients\n",
    "x_4 = x_k[0:4]\n",
    "\n",
    "#Computing energy of the first 4 DCT coefficients\n",
    "en_x4 = energy_x(x_4)\n",
    "print(\"Enrgy of X[4] is \"+str(en_x4))\n",
    "\n",
    "#Reconstructing the original signal\n",
    "x_n = idct_x(x_k)\n",
    "\n",
    "#Calculating the mean square error\n",
    "mse = mean_sq_error(x,x_n)\n",
    "print(\"Mean Square Error: \"+str(mse))\n",
    "\n",
    "fig = plt.figure(figsize=(8,15))\n",
    "\n",
    "plt.subplot(2,1,1)\n",
    "plt.stem(n,x)\n",
    "plt.xlabel('n')\n",
    "plt.ylabel('x[n]')\n",
    "plt.title('Original Signal')\n",
    "\n",
    "plt.subplot(2,1,2)\n",
    "plt.stem(n,x_n)\n",
    "plt.xlabel('n')\n",
    "plt.ylabel('x[n]')\n",
    "plt.title('Inverse DCT Signal')"
   ]
  },
  {
   "cell_type": "code",
   "execution_count": 97,
   "id": "immune-paper",
   "metadata": {},
   "outputs": [
    {
     "name": "stdout",
     "output_type": "stream",
     "text": [
      "Enrgy of x[n] is 13056\n",
      "Enrgy of X[4] is 93184.0\n",
      "Mean Square Error: 224.00000000000006\n"
     ]
    },
    {
     "data": {
      "text/plain": [
       "Text(0.5, 1.0, 'Inverse DFT Signal')"
      ]
     },
     "execution_count": 97,
     "metadata": {},
     "output_type": "execute_result"
    },
    {
     "data": {
      "image/png": "[encoded data removed]",
      "text/plain": [
       "<Figure size 576x1080 with 2 Axes>"
      ]
     },
     "metadata": {
      "needs_background": "light"
     },
     "output_type": "display_data"
    }
   ],
   "source": [
    "x = [8, 16, 24, 32, 40, 48, 56, 64]\n",
    "\n",
    "#Computing energy of the signal\n",
    "en_xn = energy_x(x)\n",
    "print(\"Enrgy of x[n] is \"+str(en_xn))\n",
    "\n",
    "#Calculating DFT coefficients\n",
    "x_k = dft_x(x)\n",
    "#Keeping only the first four DFT coefficients\n",
    "x_4 = x_k[0:4]\n",
    "\n",
    "#Computing energy of the first 4 DFT coefficients\n",
    "en_x4 = energy_f(x_4)\n",
    "print(\"Enrgy of X[4] is \"+str(en_x4))\n",
    "\n",
    "#Reconstructing the original signal\n",
    "x_n = np.array(idft_x(x_k))\n",
    "\n",
    "#Calculating the mean square error\n",
    "mse = mean_sq_error(x,x_n[:,0])\n",
    "print(\"Mean Square Error: \"+str(mse))\n",
    "\n",
    "fig = plt.figure(figsize=(8,15))\n",
    "\n",
    "plt.subplot(2,1,1)\n",
    "plt.stem(n,x)\n",
    "plt.xlabel('n')\n",
    "plt.ylabel('x[n]')\n",
    "plt.title('Original Signal')\n",
    "\n",
    "plt.subplot(2,1,2)\n",
    "plt.stem(n,x_n[:,0])\n",
    "plt.xlabel('n')\n",
    "plt.ylabel('x[n]')\n",
    "plt.title('Inverse DFT Signal')"
   ]
  }
 ],
 "metadata": {
  "kernelspec": {
   "display_name": "Python 3",
   "language": "python",
   "name": "python3"
  },
  "language_info": {
   "codemirror_mode": {
    "name": "ipython",
    "version": 3
   },
   "file_extension": ".py",
   "mimetype": "text/x-python",
   "name": "python",
   "nbconvert_exporter": "python",
   "pygments_lexer": "ipython3",
   "version": "3.6.12"
  }
 },
 "nbformat": 4,
 "nbformat_minor": 5
}
