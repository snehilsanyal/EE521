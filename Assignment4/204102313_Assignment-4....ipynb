{
 "cells": [
  {
   "cell_type": "code",
   "execution_count": 1,
   "metadata": {},
   "outputs": [],
   "source": [
    "#importing Libraries\n",
    "import sympy as sp\n",
    "import numpy as np\n",
    "import pandas as pd\n",
    "import matplotlib.pyplot as plt\n",
    "from numpy import exp\n",
    "from numpy import sin \n",
    "from numpy import cos \n",
    "import math as m\n",
    "import warnings\n",
    "warnings.filterwarnings('ignore')\n",
    "from math import pi"
   ]
  },
  {
   "cell_type": "code",
   "execution_count": null,
   "metadata": {},
   "outputs": [],
   "source": []
  },
  {
   "cell_type": "markdown",
   "metadata": {},
   "source": [
    "# 1  \n",
    "A) Write functions to implement the DFT and IDFT equations."
   ]
  },
  {
   "cell_type": "markdown",
   "metadata": {},
   "source": [
    "DTFT-            It works of concept of continous frequency.\n",
    "\n",
    "DFT-              If we sample the DTFT at some predefined frequnecy. To save computational effort on the Computer system.\n",
    "\n",
    "DCT-            It is merely used in lossy compression of images and audio signal(mostly images)...so our less memory will be occupied by data,major reason to go for DCT is beacuse of only real datya generation so alos less memory required.\n",
    "\n",
    "\n",
    "\n",
    "Why can't we use DFT?\n",
    "\n",
    "\n",
    "As DFT is obtained at some specifc frequency only, so the reconstruction is not  efficinet...."
   ]
  },
  {
   "cell_type": "markdown",
   "metadata": {},
   "source": [
    "#### A) DFT"
   ]
  },
  {
   "cell_type": "code",
   "execution_count": 111,
   "metadata": {},
   "outputs": [],
   "source": [
    "def DFT(Xn,N):     #defining the DFT\n",
    "    Xk_coeff=[]    #to store the result coeff\n",
    "    for k in range (N):\n",
    "        p=0\n",
    "        for i in range(N):\n",
    "            p=p+Xn[i]*exp((-2j*pi/N)*k*i)\n",
    "        Xk_coeff.append(p)\n",
    "    return Xk_coeff"
   ]
  },
  {
   "cell_type": "code",
   "execution_count": 112,
   "metadata": {},
   "outputs": [
    {
     "data": {
      "text/plain": [
       "Text(0, 0.5, 'amplitude')"
      ]
     },
     "execution_count": 112,
     "metadata": {},
     "output_type": "execute_result"
    },
    {
     "data": {
      "image/png": "[encoded data removed]",
      "text/plain": [
       "<Figure size 720x288 with 1 Axes>"
      ]
     },
     "metadata": {
      "needs_background": "light"
     },
     "output_type": "display_data"
    }
   ],
   "source": [
    "#DFT example\n",
    "plt.figure(figsize=(10,4))\n",
    "plt.grid()\n",
    "n=np.arange(0,10)   # 0 to 9 total= 10\n",
    "Xn=1*(n==4)\n",
    "dft=DFT(Xn,10)\n",
    "plt.stem(dft)\n",
    "plt.xlabel(\"sample\")\n",
    "plt.ylabel(\"amplitude\")"
   ]
  },
  {
   "cell_type": "markdown",
   "metadata": {},
   "source": [
    "## B) \n",
    "IDFT"
   ]
  },
  {
   "cell_type": "code",
   "execution_count": 113,
   "metadata": {},
   "outputs": [],
   "source": [
    "def IDFT(Xk_coeff,N):     #defining the IDFT\n",
    "    Xn=[]\n",
    "    for i in range (N):\n",
    "        p=0\n",
    "        for k in range(len(Xk_coeff)):\n",
    "            p=p+Xk_coeff[k]*exp((2j*pi/N)*k*i)\n",
    "        Xn.append(p)\n",
    "    return (np.array(Xn)/N)"
   ]
  },
  {
   "cell_type": "code",
   "execution_count": 115,
   "metadata": {},
   "outputs": [
    {
     "data": {
      "text/plain": [
       "Text(0, 0.5, 'reconst amplitude')"
      ]
     },
     "execution_count": 115,
     "metadata": {},
     "output_type": "execute_result"
    },
    {
     "data": {
      "image/png": "[encoded data removed]",
      "text/plain": [
       "<Figure size 720x288 with 1 Axes>"
      ]
     },
     "metadata": {
      "needs_background": "light"
     },
     "output_type": "display_data"
    }
   ],
   "source": [
    "#perfectly reconstructed back original signal\n",
    "plt.figure(figsize=(10,4))\n",
    "plt.stem(IDFT(dft,10))\n",
    "plt.grid()\n",
    "plt.xlabel(\"sample\")\n",
    "plt.ylabel(\"reconst amplitude\")"
   ]
  },
  {
   "cell_type": "markdown",
   "metadata": {},
   "source": [
    "### C)\n",
    "Write a function to compute the circular convolution of two sequences.\n",
    "Find the circular convolution of x = [1; 2; 3; 0; 0; 0; 0] and h = [1; 1; 1; 1; 1; 1; 1]\n",
    "using the function."
   ]
  },
  {
   "cell_type": "code",
   "execution_count": 120,
   "metadata": {},
   "outputs": [],
   "source": [
    "n=np.arange(0,10)\n",
    "x = [1,2, 3, 0, 0, 0, 0]\n",
    "h= [1,1,1,1,1,1,1]"
   ]
  },
  {
   "cell_type": "code",
   "execution_count": 121,
   "metadata": {},
   "outputs": [
    {
     "data": {
      "text/plain": [
       "Text(0, 0.5, 'conv amplitude')"
      ]
     },
     "execution_count": 121,
     "metadata": {},
     "output_type": "execute_result"
    },
    {
     "data": {
      "image/png": "[encoded data removed]",
      "text/plain": [
       "<Figure size 720x360 with 1 Axes>"
      ]
     },
     "metadata": {
      "needs_background": "light"
     },
     "output_type": "display_data"
    }
   ],
   "source": [
    "plt.figure(figsize=(10,5))\n",
    "plt.grid()\n",
    "Xk=DFT(x,len(x))\n",
    "Hk=DFT(h,len(h))\n",
    "cir_conv=IDFT(np.multiply(Xk,Hk),7)\n",
    "plt.stem(abs(cir_conv))\n",
    "\n",
    "plt.xlabel(\"samples\")\n",
    "plt.ylabel(\"conv amplitude\")"
   ]
  },
  {
   "cell_type": "markdown",
   "metadata": {},
   "source": [
    "### D) \n",
    "A signal is given as x(t) = cos2*pi*ft where f = 30 Hz. The signal is sampled\n",
    "at 100 times per second for 0.91 seconds and then its DFT is computed. Plot\n",
    "the spectrum versus frequency in Hz. What is the magnitude of DFT at\n",
    "35 Hz? Is this value non-zero? If so then why?"
   ]
  },
  {
   "cell_type": "code",
   "execution_count": 122,
   "metadata": {},
   "outputs": [
    {
     "data": {
      "text/plain": [
       "Text(0, 0.5, 'coeff amplitude')"
      ]
     },
     "execution_count": 122,
     "metadata": {},
     "output_type": "execute_result"
    },
    {
     "data": {
      "image/png": "[encoded data removed]",
      "text/plain": [
       "<Figure size 720x288 with 1 Axes>"
      ]
     },
     "metadata": {
      "needs_background": "light"
     },
     "output_type": "display_data"
    }
   ],
   "source": [
    "%matplotlib inline\n",
    "plt.figure(figsize=(10,4))\n",
    "plt.grid()\n",
    "Fs=100\n",
    "Ts=(1/100)\n",
    "N=91     #no of samples we are liekly to get\n",
    "n=np.arange(0,(N+1)*Ts,Ts)    #so T being the sampling period, (N+1),upper bound is ignored usually\n",
    "f=30\n",
    "Xn=(cos(2*pi*f*n))\n",
    "F=np.arange(0,Fs,Fs/N)\n",
    "Xk=DFT(Xn,len(Xn))\n",
    "plt.stem(np.abs(Xk))\n",
    "\n",
    "plt.xlabel(\"freq samples\")\n",
    "plt.ylabel(\"coeff amplitude\")"
   ]
  },
  {
   "cell_type": "markdown",
   "metadata": {},
   "source": [
    "What is the magnitude of DFT at 35 Hz? Is this value non-zero? If so then why?"
   ]
  },
  {
   "cell_type": "code",
   "execution_count": 13,
   "metadata": {},
   "outputs": [
    {
     "name": "stdout",
     "output_type": "stream",
     "text": [
      "the DFT coeff at 35Hz frequnecy : 4.29558614432306\n"
     ]
    }
   ],
   "source": [
    "print(\"the DFT coeff at 35Hz frequnecy :\",abs(Xk[int(35*91/100)]))"
   ]
  },
  {
   "cell_type": "markdown",
   "metadata": {},
   "source": [
    "becasue of not properly sampling we are getting spectral leakage phenomenon, which simply means the approximation of DFT producing some inaccuracy."
   ]
  },
  {
   "cell_type": "markdown",
   "metadata": {},
   "source": [
    "## E) \n",
    "Consider the two sequences x = [1,-3, 1, 5] and y = [7;-7;-9;-3]. Does\n",
    "there exist a sequence h such that y is the circular convolution of x and\n",
    "h. Find h using DFT and IDFT."
   ]
  },
  {
   "cell_type": "code",
   "execution_count": 123,
   "metadata": {},
   "outputs": [],
   "source": [
    "y=([7,-7,-9,-3])\n",
    "x = ([1,-3, 1, 5])"
   ]
  },
  {
   "cell_type": "code",
   "execution_count": 125,
   "metadata": {},
   "outputs": [
    {
     "name": "stdout",
     "output_type": "stream",
     "text": [
      "the value of h is : [0.0245098  0.31862745 0.14215686 0.15196078]\n"
     ]
    },
    {
     "data": {
      "text/plain": [
       "Text(0, 0.5, 'circular conv output')"
      ]
     },
     "execution_count": 125,
     "metadata": {},
     "output_type": "execute_result"
    },
    {
     "data": {
      "image/png": "[encoded data removed]",
      "text/plain": [
       "<Figure size 720x360 with 1 Axes>"
      ]
     },
     "metadata": {
      "needs_background": "light"
     },
     "output_type": "display_data"
    }
   ],
   "source": [
    "plt.figure(figsize=(10,5))\n",
    "plt.grid()\n",
    "\n",
    "h=IDFT((np.divide(DFT(x,4),DFT(y,4))),4)\n",
    "plt.stem(abs(h))\n",
    "print(\"the value of h is :\",abs(h))\n",
    "\n",
    "plt.xlabel(\"n samples\")\n",
    "plt.ylabel(\"circular conv output\")"
   ]
  },
  {
   "cell_type": "markdown",
   "metadata": {},
   "source": [
    " ## F)\n",
    "Compute the energy of the signal x[n] = (3/4)nu[n] for 0 <= n <= 50. If the\n",
    "DFT of this signal is X(k) then what is the energy of X(k) and how does\n",
    "it relate to that of x[n]."
   ]
  },
  {
   "cell_type": "code",
   "execution_count": 128,
   "metadata": {},
   "outputs": [
    {
     "data": {
      "text/plain": [
       "Text(0, 0.5, 'magnitude')"
      ]
     },
     "execution_count": 128,
     "metadata": {},
     "output_type": "execute_result"
    },
    {
     "data": {
      "image/png": "[encoded data removed]",
      "text/plain": [
       "<Figure size 720x288 with 1 Axes>"
      ]
     },
     "metadata": {
      "needs_background": "light"
     },
     "output_type": "display_data"
    }
   ],
   "source": [
    "plt.figure(figsize=(10,4))\n",
    "plt.grid()\n",
    "\n",
    "n=np.arange(0,51)\n",
    "Xn=(3/4)**n\n",
    "plt.stem(Xn)\n",
    "\n",
    "plt.xlabel(\"n\")\n",
    "plt.ylabel(\"magnitude\")"
   ]
  },
  {
   "cell_type": "code",
   "execution_count": 17,
   "metadata": {},
   "outputs": [],
   "source": [
    "def Energy(X):\n",
    "    energy=np.sum(abs(X)**2)\n",
    "    return energy"
   ]
  },
  {
   "cell_type": "code",
   "execution_count": 18,
   "metadata": {},
   "outputs": [
    {
     "name": "stdout",
     "output_type": "stream",
     "text": [
      "Energy of Xn is : 2.2857142857138735\n",
      "Energy of Xk is : 116.57142857140751\n",
      "AND THE RELATION BETWEEN THESE TWO IS       Egy_1=Egy_2/N\n"
     ]
    }
   ],
   "source": [
    "Egy_1=Energy(Xn)\n",
    "print(\"Energy of Xn is :\",Egy_1)\n",
    "Xk=np.array(DFT(Xn,51))\n",
    "\n",
    "Egy_2=Energy(Xk)\n",
    "print(\"Energy of Xk is :\",Egy_2)\n",
    "\n",
    "\n",
    "print(\"AND THE RELATION BETWEEN THESE TWO IS\",\"     \",\"Egy_1=Egy_2/N\")"
   ]
  },
  {
   "cell_type": "markdown",
   "metadata": {},
   "source": [
    "## G)\n",
    "Is it possible to compute the DTFS coe\u000ecients of the square wave men-\n",
    "tioned in Assignment-3 using the function written for DFT as mentioned\n",
    "above. If yes, then modify the function to compute the DTFS coe\u000ecients\n",
    "of the signal and show a labelled plot of the spectrum of these coe\u000ecients."
   ]
  },
  {
   "cell_type": "code",
   "execution_count": 19,
   "metadata": {},
   "outputs": [],
   "source": [
    "pulse=[]\n",
    "for i in range (2):\n",
    "    z=[0,0,0,0,0,0,0,0]\n",
    "    on=[1,1,1,1,1,1,1,1]\n",
    "    pulse=pulse+on+z"
   ]
  },
  {
   "cell_type": "code",
   "execution_count": 131,
   "metadata": {},
   "outputs": [
    {
     "data": {
      "text/plain": [
       "Text(0, 0.5, 'pulse amplitude')"
      ]
     },
     "execution_count": 131,
     "metadata": {},
     "output_type": "execute_result"
    },
    {
     "data": {
      "image/png": "[encoded data removed]",
      "text/plain": [
       "<Figure size 720x360 with 1 Axes>"
      ]
     },
     "metadata": {
      "needs_background": "light"
     },
     "output_type": "display_data"
    }
   ],
   "source": [
    "plt.figure(figsize=(10,5))\n",
    "plt.grid()\n",
    "\n",
    "plt.stem(pulse)\n",
    "plt.xlabel(\"N sample\")\n",
    "plt.ylabel(\"pulse amplitude\")"
   ]
  },
  {
   "cell_type": "code",
   "execution_count": 135,
   "metadata": {},
   "outputs": [
    {
     "data": {
      "text/plain": [
       "Text(0, 0.5, 'phase')"
      ]
     },
     "execution_count": 135,
     "metadata": {},
     "output_type": "execute_result"
    },
    {
     "data": {
      "image/png": "[encoded data removed]",
      "text/plain": [
       "<Figure size 432x288 with 1 Axes>"
      ]
     },
     "metadata": {
      "needs_background": "light"
     },
     "output_type": "display_data"
    },
    {
     "data": {
      "image/png": "[encoded data removed]",
      "text/plain": [
       "<Figure size 432x288 with 1 Axes>"
      ]
     },
     "metadata": {
      "needs_background": "light"
     },
     "output_type": "display_data"
    }
   ],
   "source": [
    "plt.figure()\n",
    "plt.grid()\n",
    "plt.stem(abs(np.array(DFT(pulse,16))))\n",
    "plt.xlabel(\"freq\")\n",
    "plt.ylabel(\"magnitude\")\n",
    "\n",
    "\n",
    "plt.figure()\n",
    "plt.grid()\n",
    "plt.stem(np.angle(np.array(DFT(pulse,16))))\n",
    "plt.xlabel(\"freq\")\n",
    "plt.ylabel(\"phase\")\n",
    "\n"
   ]
  },
  {
   "cell_type": "markdown",
   "metadata": {},
   "source": [
    "## Discrete Cosine Transform:\n",
    "It is used in lossy image compression\n",
    "because it has very strong energy compaction, i.e., most of the information\n",
    "is stored in low frequency components of a signal while the other frequency\n",
    "components have very small information content which can be stored by\n",
    "using very less number of bits. The general equation for a 1D (N data\n",
    "items) DCT is de\f",
    "ned by the following equation:\n"
   ]
  },
  {
   "cell_type": "markdown",
   "metadata": {},
   "source": [
    "### 1) \n",
    "Consider a signal x[n] = [8; 16; 24; 32; 40; 48; 56; 64] of length N = 8. Com-\n",
    "pute the DCT of this signal."
   ]
  },
  {
   "cell_type": "code",
   "execution_count": 136,
   "metadata": {},
   "outputs": [],
   "source": [
    "Xn=[8,16,24,32,40,48,56,64]\n",
    "N=8\n",
    "C_mat=np.random.rand(8,8)"
   ]
  },
  {
   "cell_type": "code",
   "execution_count": 137,
   "metadata": {},
   "outputs": [],
   "source": [
    "# producntion of the matrix\n",
    "def DCT(Xn,N):\n",
    "    for u in range(N):\n",
    "        for v in range(N):\n",
    "            if(u==0):\n",
    "                C_mat[0][v]=np.sqrt(1/N)\n",
    "            if(u>=1 and u<8):\n",
    "                C_mat[u][v]=np.sqrt(2/N)*cos((2*v+1)*u*pi/(2*N))\n",
    "    dct=np.round(np.dot(C_mat,Xn),4)\n",
    "    return dct\n",
    "dct=np.array(DCT(Xn,N))"
   ]
  },
  {
   "cell_type": "code",
   "execution_count": 138,
   "metadata": {},
   "outputs": [
    {
     "name": "stdout",
     "output_type": "stream",
     "text": [
      "The DCT of the Xn is  : [101.8234 -51.5386  -0.      -5.3876   0.      -1.6072  -0.      -0.4056]\n"
     ]
    }
   ],
   "source": [
    "print(\"The DCT of the Xn is  :\" , dct)"
   ]
  },
  {
   "cell_type": "markdown",
   "metadata": {},
   "source": [
    "### 2)\n",
    "Now keep only the first four DCT coefficients\n",
    "while discarding the rest and then compare its energy with that of x[n]."
   ]
  },
  {
   "cell_type": "code",
   "execution_count": 140,
   "metadata": {},
   "outputs": [],
   "source": [
    "egy_xn=Energy(np.array(Xn))"
   ]
  },
  {
   "cell_type": "code",
   "execution_count": 141,
   "metadata": {},
   "outputs": [
    {
     "name": "stdout",
     "output_type": "stream",
     "text": [
      "energy of the Xn is :   13056\n",
      "energy of the Xn istaking first foure coeff is :   13053.258311280002\n"
     ]
    }
   ],
   "source": [
    "en=np.zeros(8)\n",
    "for i in range (4):\n",
    "    en[i]=dct[i]\n",
    "egy_xk=Energy(en)\n",
    "print(\"energy of the Xn is :  \",egy_xn)\n",
    "print(\"energy of the Xn istaking first foure coeff is :  \",egy_xk)"
   ]
  },
  {
   "cell_type": "code",
   "execution_count": 142,
   "metadata": {},
   "outputs": [
    {
     "name": "stdout",
     "output_type": "stream",
     "text": [
      "the majority of info lies in low frequency as it has very strong energy compaction which is coming out:  0.999790005459559\n"
     ]
    }
   ],
   "source": [
    "energy_content=egy_xk/egy_xn\n",
    "print(\"the majority of info lies in low frequency as it has very strong energy compaction which is coming out: \",energy_content)"
   ]
  },
  {
   "cell_type": "markdown",
   "metadata": {},
   "source": [
    "## 3)\n",
    "Compute the inverse DCT of the sequence obtained and plot it alongside\n",
    "x[n]"
   ]
  },
  {
   "cell_type": "code",
   "execution_count": 143,
   "metadata": {},
   "outputs": [],
   "source": [
    "C_imat=np.random.rand(8,8)\n",
    "def IDCT(Xk,N):\n",
    "    for u in range(N):\n",
    "        for v in range(N):\n",
    "            if(u==0):\n",
    "                C_imat[0][v]=np.sqrt(1/N)\n",
    "            if(u>=1 and u<N):\n",
    "                C_imat[u][v]=np.sqrt(2/N)*cos((2*v+1)*u*pi/(2*N))\n",
    "    idct=np.dot(np.linalg.inv(C_mat),Xk)\n",
    "    return idct"
   ]
  },
  {
   "cell_type": "code",
   "execution_count": 146,
   "metadata": {},
   "outputs": [
    {
     "name": "stdout",
     "output_type": "stream",
     "text": [
      "the recovered value of Xn is:   [ 8.48604534 15.09915274 24.32539169 32.46926237 39.53075425 47.67462493\n",
      " 56.90086388 63.51397128]\n"
     ]
    },
    {
     "data": {
      "text/plain": [
       "Text(0.5, 1.0, 'original signal')"
      ]
     },
     "execution_count": 146,
     "metadata": {},
     "output_type": "execute_result"
    },
    {
     "data": {
      "image/png": "[encoded data removed]",
      "text/plain": [
       "<Figure size 1440x360 with 2 Axes>"
      ]
     },
     "metadata": {
      "needs_background": "light"
     },
     "output_type": "display_data"
    }
   ],
   "source": [
    "plt.figure(figsize=(20,5))\n",
    "\n",
    "idct=np.array(IDCT(en,8))\n",
    "print(\"the recovered value of Xn is:  \",idct)\n",
    "plt.subplot(1,2,1)\n",
    "plt.xlabel(\"freq sample\")\n",
    "plt.ylabel(\"magnitude\")\n",
    "plt.title(\"recovered signal\")\n",
    "plt.stem(idct)\n",
    "plt.grid()\n",
    "plt.subplot(1,2,2)\n",
    "plt.stem(Xn)\n",
    "plt.grid()\n",
    "plt.xlabel(\"freq sample\")\n",
    "plt.ylabel(\"magnitude\")\n",
    "plt.title(\"original signal\")"
   ]
  },
  {
   "cell_type": "code",
   "execution_count": 150,
   "metadata": {},
   "outputs": [
    {
     "data": {
      "text/plain": [
       "Text(0, 0.5, 'error magnitude')"
      ]
     },
     "execution_count": 150,
     "metadata": {},
     "output_type": "execute_result"
    },
    {
     "data": {
      "image/png": "[encoded data removed]",
      "text/plain": [
       "<Figure size 720x360 with 1 Axes>"
      ]
     },
     "metadata": {
      "needs_background": "light"
     },
     "output_type": "display_data"
    }
   ],
   "source": [
    "plt.figure(figsize=(10,5))\n",
    "plt.grid()\n",
    "MSE1=(Xn-idct)**2/N\n",
    "plt.stem(MSE1)\n",
    "plt.title(\"MSE at diff samples\")\n",
    "plt.xlabel(\"sample\")\n",
    "plt.ylabel(\"error magnitude\")\n"
   ]
  },
  {
   "cell_type": "code",
   "execution_count": 103,
   "metadata": {},
   "outputs": [
    {
     "data": {
      "text/plain": [
       "0.34346161838696265"
      ]
     },
     "execution_count": 103,
     "metadata": {},
     "output_type": "execute_result"
    }
   ],
   "source": [
    "MSE1.sum()"
   ]
  },
  {
   "cell_type": "markdown",
   "metadata": {},
   "source": [
    "## 4)\n",
    "Now repeat the same process with DFT and compare the mean square\n",
    "errors. Comment on your observations."
   ]
  },
  {
   "cell_type": "code",
   "execution_count": 151,
   "metadata": {},
   "outputs": [],
   "source": [
    "Xn=[8, 16, 24, 32, 40, 48, 56, 64]\n",
    "N=8"
   ]
  },
  {
   "cell_type": "code",
   "execution_count": 169,
   "metadata": {},
   "outputs": [
    {
     "name": "stdout",
     "output_type": "stream",
     "text": [
      "DFT SAMPLE BEING:   [(288+0j), (-32.00000000000002+77.25483399593904j), (-32.000000000000014+31.999999999999986j), (-32+13.254833995939087j), (-32-3.135095805817224e-14j), (-32.00000000000009-13.25483399593913j), (-32.00000000000014-32.00000000000004j), (-31.99999999999978-77.25483399593895j)]\n"
     ]
    },
    {
     "data": {
      "text/plain": [
       "Text(0, 0.5, 'magnitude')"
      ]
     },
     "execution_count": 169,
     "metadata": {},
     "output_type": "execute_result"
    },
    {
     "data": {
      "image/png": "[encoded data removed]",
      "text/plain": [
       "<Figure size 432x288 with 1 Axes>"
      ]
     },
     "metadata": {
      "needs_background": "light"
     },
     "output_type": "display_data"
    }
   ],
   "source": [
    "dft=DFT(np.array(Xn),8)\n",
    "print(\"DFT SAMPLE BEING:  \" ,dft)\n",
    "plt.stem(abs(np.abs(dft)))\n",
    "plt.grid()\n",
    "plt.xlabel(\"freq sample\")\n",
    "plt.ylabel(\"magnitude\")"
   ]
  },
  {
   "cell_type": "code",
   "execution_count": 170,
   "metadata": {},
   "outputs": [
    {
     "name": "stdout",
     "output_type": "stream",
     "text": [
      "energy of Xn is  13056\n",
      "energy of Xn's DFT is  104447.99999999999\n",
      "Relation:    ENERGY (X(N))=ENERGY(X(K))/N\n"
     ]
    }
   ],
   "source": [
    "print(\"energy of Xn is \",Energy(np.array(Xn)))\n",
    "print(\"energy of Xn's DFT is \",Energy(np.array(dft)))\n",
    "print(\"Relation:    ENERGY (X(N))=ENERGY(X(K))/N\")"
   ]
  },
  {
   "cell_type": "code",
   "execution_count": 171,
   "metadata": {},
   "outputs": [],
   "source": [
    "t=(np.array([dft[0],dft[1],dft[2],dft[3],0,0,0,0]))   #making a seprate array after makingthe last 4 elements zeros"
   ]
  },
  {
   "cell_type": "code",
   "execution_count": 174,
   "metadata": {},
   "outputs": [
    {
     "name": "stdout",
     "output_type": "stream",
     "text": [
      "the sample of reconstructed signal after 4 ignoring sample are [28.46945149 24.33105012 32.24903099 32.82514786 40.66313234 40.19950248\n",
      " 48.16637832 50.383625  ]\n"
     ]
    },
    {
     "data": {
      "text/plain": [
       "[<matplotlib.lines.Line2D at 0x22e6c416a30>]"
      ]
     },
     "execution_count": 174,
     "metadata": {},
     "output_type": "execute_result"
    },
    {
     "data": {
      "image/png": "[encoded data removed]",
      "text/plain": [
       "<Figure size 432x288 with 1 Axes>"
      ]
     },
     "metadata": {
      "needs_background": "light"
     },
     "output_type": "display_data"
    }
   ],
   "source": [
    "recons_sig=np.array((IDFT(t,8)))\n",
    "print(\"the sample of reconstructed signal after 4 ignoring sample are\",abs(recons_sig ))\n",
    "plt.plot(abs(recons_sig))"
   ]
  },
  {
   "cell_type": "code",
   "execution_count": 161,
   "metadata": {},
   "outputs": [],
   "source": [
    "MSE=np.sum(((abs(np.array(Xn)-recons_sig))**2))/N"
   ]
  },
  {
   "cell_type": "code",
   "execution_count": 162,
   "metadata": {},
   "outputs": [
    {
     "name": "stdout",
     "output_type": "stream",
     "text": [
      "the MSE after taking ony 4 sample from DFT is : 175.99999999999994\n"
     ]
    }
   ],
   "source": [
    "print(\"the MSE after taking ony 4 sample from DFT is :\", MSE)"
   ]
  },
  {
   "cell_type": "markdown",
   "metadata": {},
   "source": [
    "#### Comment on your observations."
   ]
  },
  {
   "cell_type": "markdown",
   "metadata": {},
   "source": [
    "ERROR associated with the DFT is way more than that of DCT, while we see the space consume by DCT is very less coz we neglected hight=er freqnecy coeff and we still had more than (99.9%of the information)"
   ]
  },
  {
   "cell_type": "code",
   "execution_count": null,
   "metadata": {},
   "outputs": [],
   "source": []
  }
 ],
 "metadata": {
  "kernelspec": {
   "display_name": "Python 3",
   "language": "python",
   "name": "python3"
  },
  "language_info": {
   "codemirror_mode": {
    "name": "ipython",
    "version": 3
   },
   "file_extension": ".py",
   "mimetype": "text/x-python",
   "name": "python",
   "nbconvert_exporter": "python",
   "pygments_lexer": "ipython3",
   "version": "3.8.3"
  }
 },
 "nbformat": 4,
 "nbformat_minor": 4
}
