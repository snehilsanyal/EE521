{
  "nbformat": 4,
  "nbformat_minor": 0,
  "metadata": {
    "colab": {
      "name": "Untitled0.ipynb",
      "provenance": [],
      "collapsed_sections": [],
      "toc_visible": true
    },
    "kernelspec": {
      "name": "python3",
      "display_name": "Python 3"
    }
  },
  "cells": [
    {
      "cell_type": "markdown",
      "metadata": {
        "id": "1RTCT1Q2JD61"
      },
      "source": [
        "# **Problem 1-DFT**"
      ]
    },
    {
      "cell_type": "code",
      "metadata": {
        "id": "mviwv_nsJIlQ"
      },
      "source": [
        "import numpy as np\r\n",
        "import matplotlib.pyplot as plt\r\n",
        "\r\n",
        "\r\n",
        "#### Function for determining the DFT\r\n",
        "\r\n",
        "\r\n",
        "def fft(x):\r\n",
        "    N = len(x)\r\n",
        "    w = np.e ** (-1j * 2 * np.pi /N)        ## W is called twiddle Factor\r\n",
        "    fft = []\r\n",
        "    for i in range(len(x)):\r\n",
        "        fft.append(sum(x[j]*w**(j*i) for j in range(len(x))))\r\n",
        "    return np.array(fft)\r\n",
        "\r\n",
        "\r\n",
        "#### function for determining the DFT\r\n",
        "\r\n",
        "\r\n",
        "def ifft(x):\r\n",
        "    N = len(x)\r\n",
        "    w = np.e ** (1j * 2 * np.pi / N)\r\n",
        "    ifft = []\r\n",
        "    for i in range(len(x)):\r\n",
        "        ifft.append((1/N)*sum(x[j] * w ** (j * i) for j in range(len(x))))\r\n",
        "    return np.array(ifft)"
      ],
      "execution_count": 2,
      "outputs": []
    },
    {
      "cell_type": "markdown",
      "metadata": {
        "id": "ygZMAbiXKE9A"
      },
      "source": [
        "***DEFINING CIRCULAR CONVOLUTION***"
      ]
    },
    {
      "cell_type": "code",
      "metadata": {
        "id": "cqCeTaHvKESW"
      },
      "source": [
        "def circconv(a,b):\r\n",
        "    return ifft(fft(a)*fft(b))"
      ],
      "execution_count": null,
      "outputs": []
    },
    {
      "cell_type": "markdown",
      "metadata": {
        "id": "80UgyMzLML6a"
      },
      "source": [
        "**Given Problem of circular convolution**"
      ]
    },
    {
      "cell_type": "code",
      "metadata": {
        "colab": {
          "base_uri": "https://localhost:8080/"
        },
        "id": "Vii_C6f1MBrn",
        "outputId": "808969d3-cdb1-46ca-8e49-d06cb09fae4e"
      },
      "source": [
        "x1 = [1,2,3,0,0,0,0]\r\n",
        "x2 = [1,1,1,1,1,1,1]\r\n",
        "print('Circ convolution between %s and %s\\n' %(x1,x2) , abs(circconv(x1,x2)))"
      ],
      "execution_count": null,
      "outputs": [
        {
          "output_type": "stream",
          "text": [
            "Circ convolution between [1, 2, 3, 0, 0, 0, 0] and [1, 1, 1, 1, 1, 1, 1]\n",
            " [6. 6. 6. 6. 6. 6. 6.]\n"
          ],
          "name": "stdout"
        }
      ]
    },
    {
      "cell_type": "markdown",
      "metadata": {
        "id": "oiduEFZ4M5TI"
      },
      "source": [
        "**DFT of cosine signal**"
      ]
    },
    {
      "cell_type": "code",
      "metadata": {
        "colab": {
          "base_uri": "https://localhost:8080/",
          "height": 295
        },
        "id": "prJV5PfjMk-x",
        "outputId": "32551ed3-6485-4eb0-80c6-3151e08108ff"
      },
      "source": [
        "fs = 100\r\n",
        "t = np.arange(0,10,1/fs)  ## signal sampled at 100 Hz for 10 seconds\r\n",
        "sgnl = np.cos(2*np.pi*30*t)\r\n",
        "fftsgnl = np.fft.fft(sgnl)\r\n",
        "plt.plot(abs(fftsgnl))\r\n",
        "plt.xlabel('freq[x10]')\r\n",
        "plt.title('DFT plot of cosine f= 30Hz and fs = 100Hz')\r\n",
        "plt.show()"
      ],
      "execution_count": 4,
      "outputs": [
        {
          "output_type": "display_data",
          "data": {
            "image/png": "[encoded data removed]",
            "text/plain": [
              "<Figure size 432x288 with 1 Axes>"
            ]
          },
          "metadata": {
            "tags": [],
            "needs_background": "light"
          }
        }
      ]
    },
    {
      "cell_type": "markdown",
      "metadata": {
        "id": "cP2HQPzQ4o6U"
      },
      "source": [
        "*DFT of cosine gives two impulses at f and fs-f. Since here we Sampled the signal for 10 seconds we get the impulses at 300 and 700 HZ*"
      ]
    },
    {
      "cell_type": "markdown",
      "metadata": {
        "id": "IlPkYGJaQ1kG"
      },
      "source": [
        "***Finding h from y and x from DFT and IDFT***"
      ]
    },
    {
      "cell_type": "code",
      "metadata": {
        "colab": {
          "base_uri": "https://localhost:8080/"
        },
        "id": "Cy9BtPmYQsE6",
        "outputId": "863a2351-4f82-405c-e5d7-b1acbe82b449"
      },
      "source": [
        "x = [1, 3,  1,  5]   ## multiplication of DFT's is circular convolution of the given series in time domain\r\n",
        "y = [7, 7 , 9, 3]\r\n",
        "z = ifft((fft(y)/fft(x)))\r\n",
        "print('The signal h(n) is \\n' , abs(z))"
      ],
      "execution_count": null,
      "outputs": [
        {
          "output_type": "stream",
          "text": [
            "The signal h(n) is \n",
            " [0.6 0.4 1.4 1.4]\n"
          ],
          "name": "stdout"
        }
      ]
    },
    {
      "cell_type": "markdown",
      "metadata": {
        "id": "uHSqy2VTRgcT"
      },
      "source": [
        "***Energy of the given signal***"
      ]
    },
    {
      "cell_type": "code",
      "metadata": {
        "colab": {
          "base_uri": "https://localhost:8080/"
        },
        "id": "Z3VjxSwCRsUH",
        "outputId": "52819084-9ef5-4427-e695-c5be375faf44"
      },
      "source": [
        "def x1(n):          #### let x1 be the given signal\r\n",
        "  return (3/4)**n * (n>=0)\r\n",
        "n = np.arange(0,50)\r\n",
        "def energy(x):      #### Energy of a given signal\r\n",
        "    return sum(abs(x)**2)\r\n",
        "E1 = energy(x1(n))\r\n",
        "E2 = energy(fft(x1(n)))\r\n",
        "print('Energy of signal (3/4)^nu(n) for 50 samples \\n' , E1 )\r\n",
        "print('Energy of its DFT \\n' , E2)\r\n",
        "print('\\nRatio of the two :' , round(E2/E1 ))"
      ],
      "execution_count": null,
      "outputs": [
        {
          "output_type": "stream",
          "text": [
            "Energy of signal (3/4)^nu(n) for 50 samples \n",
            " 2.2857142857135524\n",
            "Energy of its DFT \n",
            " 114.28571428567776\n",
            "\n",
            "Ratio of the two : 50\n"
          ],
          "name": "stdout"
        }
      ]
    },
    {
      "cell_type": "markdown",
      "metadata": {
        "id": "kkBaALefTOol"
      },
      "source": [
        "*Hence we can see that ratio of the energy of the DFT and the energy of the given signal is the number of samples . This relation is called Parseval's Energy Theorem*"
      ]
    },
    {
      "cell_type": "markdown",
      "metadata": {
        "id": "7Y3zl8mFTwKP"
      },
      "source": [
        "***DTFS coefficients***"
      ]
    },
    {
      "cell_type": "code",
      "metadata": {
        "id": "h-vie_VoTzNv"
      },
      "source": [
        "## DTFS coeffecients are very much related to the DFT \r\n",
        "def dtfcoeff(x):\r\n",
        "    N = len(x)\r\n",
        "    w = np.e ** (-1j * 2 * np.pi /N)\r\n",
        "    fft = []\r\n",
        "    for i in range(len(x)):\r\n",
        "        fft.append(1/N*(sum(x[j]*(w**(j*i)) for j in range(len(x)))))    ##### DTFS coeffeicnts are realted by N factor with DFT of a signal \r\n",
        "    return np.array(fft)"
      ],
      "execution_count": null,
      "outputs": []
    },
    {
      "cell_type": "code",
      "metadata": {
        "colab": {
          "base_uri": "https://localhost:8080/",
          "height": 295
        },
        "id": "-zsPJ-G2TsF9",
        "outputId": "956d7455-9633-46f6-f1a0-3484987cbcaf"
      },
      "source": [
        "def sqrwave(n):\r\n",
        "    p = n/16\r\n",
        "    z=[]\r\n",
        "    for i in range(int(p)):\r\n",
        "        z = z+[1 for i in range(8)] + [0 for i in range(8)]\r\n",
        "    return z\r\n",
        "plt.stem(sqrwave(16),use_line_collection= True)\r\n",
        "plt.xlabel('time instant')\r\n",
        "plt.ylabel('Amplitude')\r\n",
        "plt.title('Square Wave')\r\n",
        "plt.show()"
      ],
      "execution_count": null,
      "outputs": [
        {
          "output_type": "display_data",
          "data": {
            "image/png": "[encoded data removed]",
            "text/plain": [
              "<Figure size 432x288 with 1 Axes>"
            ]
          },
          "metadata": {
            "tags": [],
            "needs_background": "light"
          }
        }
      ]
    },
    {
      "cell_type": "code",
      "metadata": {
        "colab": {
          "base_uri": "https://localhost:8080/",
          "height": 297
        },
        "id": "dLq3TVgiW_5E",
        "outputId": "904f1e51-cee5-48a8-ff61-346db56accbe"
      },
      "source": [
        "dtfscoeff = dtfcoeff(sqrwave(16))\r\n",
        "plt.subplot(211)\r\n",
        "plt.stem(abs(dtfscoeff),use_line_collection= True)\r\n",
        "plt.ylabel('Magnitude')\r\n",
        "plt.title('Magnitude spectrum of DTFS coefficients')\r\n",
        "plt.subplot(212)\r\n",
        "plt.stem(np.angle(dtfscoeff),use_line_collection= True)\r\n",
        "plt.xlabel('n')\r\n",
        "plt.ylabel('Phase[rad]')\r\n",
        "plt.title('Phase spectrum of DTFS coefficients')\r\n",
        "plt.tight_layout()\r\n",
        "plt.show()"
      ],
      "execution_count": null,
      "outputs": [
        {
          "output_type": "display_data",
          "data": {
            "image/png": "[encoded data removed]",
            "text/plain": [
              "<Figure size 432x288 with 2 Axes>"
            ]
          },
          "metadata": {
            "tags": [],
            "needs_background": "light"
          }
        }
      ]
    },
    {
      "cell_type": "markdown",
      "metadata": {
        "id": "jZ258Da-pCJ0"
      },
      "source": [
        "# ***Problem 2***"
      ]
    },
    {
      "cell_type": "markdown",
      "metadata": {
        "id": "D0P2QHodYW0y"
      },
      "source": [
        "***DISCRETE COSINE TRANSFORM***"
      ]
    },
    {
      "cell_type": "code",
      "metadata": {
        "colab": {
          "base_uri": "https://localhost:8080/"
        },
        "id": "kLV4Z43fYV6m",
        "outputId": "7111ed71-3676-4f24-e658-04355aa63ffa"
      },
      "source": [
        "from scipy.fftpack import dct,idct\r\n",
        "x2 = [8, 16, 24, 32, 40, 48, 56, 64]   ##  given signal\r\n",
        "dct  = dct(x2,norm='ortho')\r\n",
        "print('DCT of %s\\n' %x2 , dct)"
      ],
      "execution_count": null,
      "outputs": [
        {
          "output_type": "stream",
          "text": [
            "DCT of [8, 16, 24, 32, 40, 48, 56, 64]\n",
            " [101.82337649 -51.53858418   0.          -5.38763841   0.\n",
            "  -1.60722323   0.          -0.40561858]\n"
          ],
          "name": "stdout"
        }
      ]
    },
    {
      "cell_type": "markdown",
      "metadata": {
        "id": "UTHJv0myZcZp"
      },
      "source": [
        "> *Lets calculate the energy of the signal from only the first 4 coeffecients \r\n",
        "of the signal*\r\n",
        "\r\n"
      ]
    },
    {
      "cell_type": "code",
      "metadata": {
        "colab": {
          "base_uri": "https://localhost:8080/"
        },
        "id": "6kKmTgNjZVhY",
        "outputId": "76ce3acf-ff04-41ea-aed1-0f331a036b01"
      },
      "source": [
        "Energydct4 = energy(dct[:4])\r\n",
        "print('Energy of the signal %s\\n' %x2 , energy(np.array(x2)))\r\n",
        "print('Energy calculated from only the first 4 coeff of DCT of the signal\\n', energy(dct[:4]))"
      ],
      "execution_count": null,
      "outputs": [
        {
          "output_type": "stream",
          "text": [
            "Energy of the signal [8, 16, 24, 32, 40, 48, 56, 64]\n",
            " 13056\n",
            "Energy calculated from only the first 4 coeff of DCT of the signal\n",
            " 13053.252307055183\n"
          ],
          "name": "stdout"
        }
      ]
    },
    {
      "cell_type": "markdown",
      "metadata": {
        "id": "403E1_YocN6x"
      },
      "source": [
        "\r\n",
        "\r\n",
        "> *The Energy difference is very less concluding that the DCT makes the signal transform such that energy is confined in the lower order frequencies*\r\n",
        "\r\n"
      ]
    },
    {
      "cell_type": "code",
      "metadata": {
        "colab": {
          "base_uri": "https://localhost:8080/",
          "height": 281
        },
        "id": "uiQn7CVMcIrG",
        "outputId": "79acf2d3-a9d8-49fd-9aa6-8003fef4d22b"
      },
      "source": [
        "#### Inverse DCT from the first 4 coeffecients\r\n",
        "dct = list(dct[:4]) + [0 for i in range(len(x2)-4)]  #### padding zeros to the rest of the dct coeffecients\r\n",
        "idct = idct(dct, norm='ortho')\r\n",
        "plt.subplot(121)\r\n",
        "plt.stem(x2,use_line_collection= True)\r\n",
        "plt.title('Original signal')\r\n",
        "plt.subplot(122)\r\n",
        "plt.stem(idct,use_line_collection= True)\r\n",
        "plt.title('Reconstructed from the first 4 coef of DCT')\r\n",
        "plt.show()"
      ],
      "execution_count": null,
      "outputs": [
        {
          "output_type": "display_data",
          "data": {
            "image/png": "[encoded data removed]",
            "text/plain": [
              "<Figure size 432x288 with 2 Axes>"
            ]
          },
          "metadata": {
            "tags": [],
            "needs_background": "light"
          }
        }
      ]
    },
    {
      "cell_type": "code",
      "metadata": {
        "colab": {
          "base_uri": "https://localhost:8080/"
        },
        "id": "atcmrc8Ai-aU",
        "outputId": "c2316180-dff0-4942-d527-1a8f916cab90"
      },
      "source": [
        "## Calculation of mean square error\r\n",
        "error = np.sqrt(sum((idct - np.array(x2))**2))\r\n",
        "print('Root mean square error between the original and the reconstructed signal\\n' , error)"
      ],
      "execution_count": null,
      "outputs": [
        {
          "output_type": "stream",
          "text": [
            "Root mean square error between the original and the reconstructed signal\n",
            " 1.657616645916001\n"
          ],
          "name": "stdout"
        }
      ]
    },
    {
      "cell_type": "markdown",
      "metadata": {
        "id": "9OK56WC5krbu"
      },
      "source": [
        ">***Lets repeat the process with DFT***\r\n",
        "\r\n"
      ]
    },
    {
      "cell_type": "code",
      "metadata": {
        "colab": {
          "base_uri": "https://localhost:8080/"
        },
        "id": "bqWVG7JmnIN8",
        "outputId": "050b6408-8491-485e-bf01-e6c674303b08"
      },
      "source": [
        "print('Energy of the signal %s\\n' %x2 , energy(np.array(x2)))\r\n",
        "fft_x2 = np.fft.fft(x2)\r\n",
        "print('Energy calculated from only the first 4 coeff of DFT of the signal\\n', energy(fft_x2[:4]/8))"
      ],
      "execution_count": null,
      "outputs": [
        {
          "output_type": "stream",
          "text": [
            "Energy of the signal [8, 16, 24, 32, 40, 48, 56, 64]\n",
            " 13056\n",
            "Energy calculated from only the first 4 coeff of DFT of the signal\n",
            " 1456.0\n"
          ],
          "name": "stdout"
        }
      ]
    },
    {
      "cell_type": "markdown",
      "metadata": {
        "id": "4SKKjvNhnbPL"
      },
      "source": [
        "> ***There is huge difference in the both energy calculated***\r\n",
        "\r\n"
      ]
    },
    {
      "cell_type": "code",
      "metadata": {
        "colab": {
          "base_uri": "https://localhost:8080/",
          "height": 297
        },
        "id": "f2zMxJEmmBmw",
        "outputId": "5b219297-9191-429b-e6d1-294f4bcbf44e"
      },
      "source": [
        "## SIGNAL RECONSTRUCTION\r\n",
        "x2_recon = np.fft.ifft(list(x2[:4]) + [0 for i in range(len(x2)-4)])    ####Reconstructed  x2 from the first 4 coef of DFT and other 4 padded 0\r\n",
        "plt.subplot(121)\r\n",
        "plt.stem(x2,use_line_collection= True)\r\n",
        "plt.title('Original signal')\r\n",
        "plt.xlabel('time instant')\r\n",
        "plt.subplot(122)\r\n",
        "plt.stem(abs(x2_recon),use_line_collection= True)\r\n",
        "plt.title('Reconstructed from the first 4 coef of DFT')\r\n",
        "plt.xlabel('time instant')\r\n",
        "plt.tight_layout()\r\n",
        "plt.show()"
      ],
      "execution_count": null,
      "outputs": [
        {
          "output_type": "display_data",
          "data": {
            "image/png": "[encoded data removed]",
            "text/plain": [
              "<Figure size 432x288 with 2 Axes>"
            ]
          },
          "metadata": {
            "tags": [],
            "needs_background": "light"
          }
        }
      ]
    },
    {
      "cell_type": "code",
      "metadata": {
        "colab": {
          "base_uri": "https://localhost:8080/"
        },
        "id": "7eCE9yzNnuJ7",
        "outputId": "742a1738-ba87-4d62-c1fa-0f8f621d0806"
      },
      "source": [
        "error = np.sqrt(sum((abs(x2_recon) - np.array(x2))**2))\r\n",
        "print('Root mean square error between the original and the reconstructed signal\\n' , error)"
      ],
      "execution_count": null,
      "outputs": [
        {
          "output_type": "stream",
          "text": [
            "Root mean square error between the original and the reconstructed signal\n",
            " 104.53848833148815\n"
          ],
          "name": "stdout"
        }
      ]
    },
    {
      "cell_type": "markdown",
      "metadata": {
        "id": "vAx5ENdRn9YV"
      },
      "source": [
        "> ***We see a big difference in the error calculated by the reconstruted signal from the DFT coeffecients because Unlike DCT the ENERGY is not concentrated in only the lower frequencies***\r\n",
        "\r\n"
      ]
    }
  ]
}