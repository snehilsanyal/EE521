{
  "nbformat": 4,
  "nbformat_minor": 0,
  "metadata": {
    "colab": {
      "name": "Untitled5.ipynb",
      "provenance": [],
      "collapsed_sections": []
    },
    "kernelspec": {
      "name": "python3",
      "display_name": "Python 3"
    }
  },
  "cells": [
    {
      "cell_type": "markdown",
      "metadata": {
        "id": "ZFS3FQYuZWjP"
      },
      "source": [
        "# EE 521 DSP Lab\r\n",
        "## Assignment-4 | AVI KHANDELWAL, 204102301"
      ]
    },
    {
      "cell_type": "markdown",
      "metadata": {
        "id": "mXwTASszZjAE"
      },
      "source": [
        "## Importing packages -"
      ]
    },
    {
      "cell_type": "code",
      "metadata": {
        "id": "k3Vou6cyYZe6"
      },
      "source": [
        "from numpy import sin,cos,pi,sqrt\r\n",
        "import numpy as np\r\n",
        "import matplotlib.pyplot as plt\r\n",
        "import math as m\r\n",
        "import warnings\r\n",
        "import cmath\r\n",
        "from mpl_toolkits.mplot3d import Axes3D\r\n",
        "from matplotlib import cm\r\n",
        "\r\n",
        "\r\n",
        "warnings.filterwarnings('ignore')"
      ],
      "execution_count": 2,
      "outputs": []
    },
    {
      "cell_type": "markdown",
      "metadata": {
        "id": "JgdSgZO-ZtIA"
      },
      "source": [
        "## Part A: Discrete Fourier Transform\r\n",
        "\r\n"
      ]
    },
    {
      "cell_type": "markdown",
      "metadata": {
        "id": "FwX0uLwuZxx2"
      },
      "source": [
        "### Q1. Write functions to implement the DFT and IDFT equations."
      ]
    },
    {
      "cell_type": "code",
      "metadata": {
        "colab": {
          "base_uri": "https://localhost:8080/"
        },
        "id": "FloE7QoiZ7vy",
        "outputId": "2410ab77-ab4a-403c-a0f8-2651d15a999c"
      },
      "source": [
        "x = np.array([1,2,3,4,5])\r\n",
        "\r\n",
        "def DFT(x):\r\n",
        "  N = len(x)\r\n",
        "  X = np.zeros(N,dtype=np.complex_)\r\n",
        "  for k in range(N):\r\n",
        "    for n in range(N):\r\n",
        "      X[k] += x[n]*np.exp(-1j*(2*pi/N)*n*k)\r\n",
        "  return X\r\n",
        "\r\n",
        "def IDFT(X):\r\n",
        "  N = len(X)\r\n",
        "  x = np.zeros(N,dtype=np.complex_)\r\n",
        "  for n in range(N):\r\n",
        "    for k in range(N):\r\n",
        "      x[n] += 1/N*(X[k]*np.exp(1j*(2*pi/N)*n*k))\r\n",
        "    x[n] = round(x[n],5)\r\n",
        "  return x\r\n",
        "\r\n",
        "print(\"Discrete time sequence:\",x,\"\\n\")\r\n",
        "X = DFT(x)\r\n",
        "print(\"DFT of the discrete time sequence:\",X,\"\\n\")\r\n",
        "y = IDFT(X)\r\n",
        "print(\"IDFT of the discrete time sequence:\",y,\"\\n\")"
      ],
      "execution_count": 23,
      "outputs": [
        {
          "output_type": "stream",
          "text": [
            "Discrete time sequence: [1 2 3 4 5] \n",
            "\n",
            "DFT of the discrete time sequence: [15. +0.j         -2.5+3.4409548j  -2.5+0.81229924j -2.5-0.81229924j\n",
            " -2.5-3.4409548j ] \n",
            "\n",
            "IDFT of the discrete time sequence: [1.-0.j 2.-0.j 3.+0.j 4.+0.j 5.+0.j] \n",
            "\n"
          ],
          "name": "stdout"
        }
      ]
    },
    {
      "cell_type": "markdown",
      "metadata": {
        "id": "9Y0djXGSeCYh"
      },
      "source": [
        "### Q2. Write a function to compute the circular convolution of two sequences. Find the circular convolution of x = [1, 2, 3, 0, 0, 0, 0] and h = [1, 1, 1, 1, 1, 1, 1] using the function."
      ]
    },
    {
      "cell_type": "code",
      "metadata": {
        "colab": {
          "base_uri": "https://localhost:8080/"
        },
        "id": "6goFEw3meIEY",
        "outputId": "fa7536f9-7609-4cb7-8c85-aa33f860cadc"
      },
      "source": [
        "def cir_conv(x,h):\r\n",
        "  X = DFT(x)\r\n",
        "  H = DFT(h)\r\n",
        "  Y = X*H\r\n",
        "  return IDFT(Y)\r\n",
        "\r\n",
        "x = [1, 2, 3, 0, 0, 0, 0]\r\n",
        "h = [1, 1, 1, 1, 1, 1, 1] \r\n",
        "print(abs(cir_conv(x,h)))"
      ],
      "execution_count": 25,
      "outputs": [
        {
          "output_type": "stream",
          "text": [
            "[6. 6. 6. 6. 6. 6. 6.]\n"
          ],
          "name": "stdout"
        }
      ]
    },
    {
      "cell_type": "markdown",
      "metadata": {
        "id": "NXVyEL7ZyHB-"
      },
      "source": [
        "### Q3. A signal is given as x(t) = cos2πf t where f = 30 Hz. The signal is sampled at 100 times per second for 0.91 seconds and then its DFT is computed. Plot the spectrum versus frequency in Hz. What is the magnitude of DFT at 35 Hz? Is this value non-zero? If so then why?\r\n",
        " "
      ]
    },
    {
      "cell_type": "code",
      "metadata": {
        "colab": {
          "base_uri": "https://localhost:8080/",
          "height": 733
        },
        "id": "Zdo0-S6lyRHg",
        "outputId": "6de1b0bb-9c59-4f6f-cfc0-5c1eeb84f0f3"
      },
      "source": [
        "Fs = 100\r\n",
        "T = 1/Fs\r\n",
        "N = 91     \r\n",
        "n = np.arange(0,N*T,T)\r\n",
        "F = np.arange(0,Fs,Fs/N)\r\n",
        "f = 30 \r\n",
        "x  = cos(2*pi*f*n)\r\n",
        "X = DFT(x)\r\n",
        "plt.figure(figsize=(10,5))\r\n",
        "plt.grid()\r\n",
        "plt.stem(F,abs(X))\r\n",
        "plt.xlabel('k')\r\n",
        "plt.ylabel('Amplitude')\r\n",
        "plt.title('DFT with double side band')\r\n",
        "\r\n",
        "SSB = X[:46]\r\n",
        "SSB[1:] = 2*SSB[1:]\r\n",
        "F = np.arange(0,Fs/2,Fs/N)\r\n",
        "plt.figure(figsize=(10,5))\r\n",
        "plt.grid()\r\n",
        "plt.stem(F,abs(SSB))\r\n",
        "plt.xlabel('f (Hz)')\r\n",
        "plt.ylabel('Amplitude')\r\n",
        "plt.title('DFT with single side band')\r\n",
        "\r\n",
        "# To find out the DFT magnitude at 35 Hz, we need to find the SSB magnitude corresponding to 32nd index in array (calculated using kFs/N = 35, which approx gives 32)\r\n",
        "\r\n",
        "print(\"\\n\",\"DFT magnitude corresponding to 35 Hz is:\", abs(SSB[32]),\"\\n\")\r\n",
        "\r\n",
        "# Ideally when computing DFT, we get magnitude only corresponding to the frequencies present in the signal, while other magnitudes are zero but in this case the fraction\r\n",
        "# Fs/N is not an integer hence when incrementing we don't get a whole number frquency point because of which there is some DFT magnitude in the vicinity of 30 Hz, so that is\r\n",
        "# why we can see a peak at 30 Hz and DFT magnitude falling drastically on either side of it while in ideal case there should be no other components present in the neibourhood\r\n",
        "# of 30Hz frequency."
      ],
      "execution_count": 40,
      "outputs": [
        {
          "output_type": "stream",
          "text": [
            "\n",
            " DFT magnitude corresponding to 35 Hz is: 4.097539212483234 \n",
            "\n"
          ],
          "name": "stdout"
        },
        {
          "output_type": "display_data",
          "data": {
            "image/png": "[encoded data removed]",
            "text/plain": [
              "<Figure size 720x360 with 1 Axes>"
            ]
          },
          "metadata": {
            "tags": [],
            "needs_background": "light"
          }
        },
        {
          "output_type": "display_data",
          "data": {
            "image/png": "[encoded data removed]",
            "text/plain": [
              "<Figure size 720x360 with 1 Axes>"
            ]
          },
          "metadata": {
            "tags": [],
            "needs_background": "light"
          }
        }
      ]
    },
    {
      "cell_type": "markdown",
      "metadata": {
        "id": "23AqQpBI7Xgb"
      },
      "source": [
        "### Q3.Consider the two sequences y = [1, −3, 1, 5] and x = [7, −7, −9, −3]. Does there exist a sequence h such that y is the circular convolution of x and h. Find h using DFT and IDFT"
      ]
    },
    {
      "cell_type": "code",
      "metadata": {
        "colab": {
          "base_uri": "https://localhost:8080/"
        },
        "id": "YSYO4LDS7sme",
        "outputId": "274f06b1-ba2d-43e0-c240-1d039dff2813"
      },
      "source": [
        "y = np.array([1,-3,1,5])\r\n",
        "x = np.array([7,-7,-9,-3])\r\n",
        "X = DFT(x)\r\n",
        "Y = DFT(y)\r\n",
        "H = Y/X\r\n",
        "h = np.round(abs(IDFT(H)),2)\r\n",
        "print(\"h = \",list(h))"
      ],
      "execution_count": 47,
      "outputs": [
        {
          "output_type": "stream",
          "text": [
            "h =  [0.02, 0.32, 0.14, 0.15]\n"
          ],
          "name": "stdout"
        }
      ]
    },
    {
      "cell_type": "markdown",
      "metadata": {
        "id": "dd_8tyJw_Tiq"
      },
      "source": [
        "### Q4. Compute the energy of the signal x[n] = (3/4)nu[n] for 0 ≤ n ≤ 50. If the DFT of this signal is X(k) then what is the energy of X(k) and how does it relate to that of x[n].\r\n"
      ]
    },
    {
      "cell_type": "code",
      "metadata": {
        "colab": {
          "base_uri": "https://localhost:8080/"
        },
        "id": "hhvCAhPA_b6L",
        "outputId": "eb4dd134-2385-4918-cbc4-7f4ac6db0ad9"
      },
      "source": [
        "N = 51\r\n",
        "n = np.arange(N)\r\n",
        "\r\n",
        "x = (3/4)**n\r\n",
        "X = DFT(x)\r\n",
        "E1 = sum(x**2)\r\n",
        "E1 = round(E1,4)\r\n",
        "print(\"Energy through time domain approach:\",E1)\r\n",
        "\r\n",
        "# According to parsevals relation, the energy in time domain can be calculated in frequency domain via DFT expression as follows-\r\n",
        "\r\n",
        "E2 = sum(abs(X)**2)/N\r\n",
        "E2 = round(E2,4)\r\n",
        "print(\"Energy through frequency domain (DFT) approach:\",E2)"
      ],
      "execution_count": 33,
      "outputs": [
        {
          "output_type": "stream",
          "text": [
            "Energy through time domain approach: 2.2857\n",
            "Energy through frequency domain (DFT) approach: 2.2857\n"
          ],
          "name": "stdout"
        }
      ]
    },
    {
      "cell_type": "markdown",
      "metadata": {
        "id": "ineDJkwwDJ2m"
      },
      "source": [
        "### Q5. Is it possible to compute the DTFS coefficients of the square wave mentioned in Assignment-3 using the function written for DFT as mentioned above. If yes, then modify the function to compute the DTFS coefficients of the signal and show a labelled plot of the spectrum of these coefficients."
      ]
    },
    {
      "cell_type": "code",
      "metadata": {
        "colab": {
          "base_uri": "https://localhost:8080/",
          "height": 700
        },
        "id": "VlIL6oa3DYXv",
        "outputId": "608a361f-41f0-4604-98a1-744278558ea0"
      },
      "source": [
        "def DTFS_from_DFT(x):\r\n",
        "  N = len(x)\r\n",
        "  a = np.zeros(N,dtype=np.complex_)\r\n",
        "  for k in range(N):\r\n",
        "    for n in range(N):\r\n",
        "      a[k] += (x[n]*np.exp(-1j*(2*pi/N)*n*k))/N\r\n",
        "  return a\r\n",
        "x = np.array([1]*8+[0]*8)\r\n",
        "\r\n",
        "plt.figure(figsize=(10,5))\r\n",
        "plt.grid()\r\n",
        "plt.xlabel(\"k\")\r\n",
        "plt.ylabel(\"Magnitude\")\r\n",
        "plt.title(\"Magnitude plot of DTFS coefficients\")\r\n",
        "a = DTFS_from_DFT(x)\r\n",
        "plt.stem(abs(a))\r\n",
        "\r\n",
        "plt.figure(figsize=(10,5))\r\n",
        "plt.grid()\r\n",
        "plt.xlabel(\"k\")\r\n",
        "plt.ylabel(\"Phase\")\r\n",
        "plt.title(\"Phase plot of DTFS coefficients\")\r\n",
        "plt.stem(np.angle(a))"
      ],
      "execution_count": 4,
      "outputs": [
        {
          "output_type": "execute_result",
          "data": {
            "text/plain": [
              "<StemContainer object of 3 artists>"
            ]
          },
          "metadata": {
            "tags": []
          },
          "execution_count": 4
        },
        {
          "output_type": "display_data",
          "data": {
            "image/png": "[encoded data removed]",
            "text/plain": [
              "<Figure size 720x360 with 1 Axes>"
            ]
          },
          "metadata": {
            "tags": [],
            "needs_background": "light"
          }
        },
        {
          "output_type": "display_data",
          "data": {
            "image/png": "[encoded data removed]",
            "text/plain": [
              "<Figure size 720x360 with 1 Axes>"
            ]
          },
          "metadata": {
            "tags": [],
            "needs_background": "light"
          }
        }
      ]
    },
    {
      "cell_type": "markdown",
      "metadata": {
        "id": "cE0SCXTYLypS"
      },
      "source": [
        "## Part B: Discrete Cosine Transform\r\n"
      ]
    },
    {
      "cell_type": "markdown",
      "metadata": {
        "id": "nX4LwHNIL3te"
      },
      "source": [
        "### Q1. Consider a signal x[n] = [8, 16, 24, 32, 40, 48, 56, 64] of length N = 8. Compute the DCT of this signal.\r\n",
        "\r\n"
      ]
    },
    {
      "cell_type": "code",
      "metadata": {
        "colab": {
          "base_uri": "https://localhost:8080/"
        },
        "id": "8ndZomXRMLtQ",
        "outputId": "2aca8fe6-bea4-49b1-b99a-0b631a242e9e"
      },
      "source": [
        "def DCT(x):\r\n",
        "  N = len(x)\r\n",
        "  X = np.zeros(N)\r\n",
        "  for n in range(N):\r\n",
        "      X[0] += (sqrt(2)/sqrt(N))*x[n]*(1/sqrt(2))\r\n",
        "  for m in range(1,N):\r\n",
        "    for n in range(N):\r\n",
        "      X[m] += (sqrt(2)/sqrt(N))*x[n]*cos(((pi*m)/(2*N))*(2*n + 1))\r\n",
        "  return np.round(X,3)\r\n",
        "\r\n",
        "def IDCT(X):\r\n",
        "  N = len(X)\r\n",
        "  x = np.zeros(N)\r\n",
        "  for n in range(N):\r\n",
        "    for m in range(N):\r\n",
        "      if m==0:\r\n",
        "        cm = 1/sqrt(2)\r\n",
        "      else:\r\n",
        "        cm = 1\r\n",
        "      x[n] += (sqrt(2)/sqrt(N))*X[m]*cm*cos(((pi*m)/(2*N))*(2*n + 1))\r\n",
        "  return np.round(x,3)\r\n",
        "\r\n",
        "n = np.arange(8)\r\n",
        "x = np.array([8, 16, 24, 32, 40, 48, 56, 64]) \r\n",
        "X = DCT(x)\r\n",
        "print(\"The DCT of the above signal is:\",X,\"\\n\")"
      ],
      "execution_count": 18,
      "outputs": [
        {
          "output_type": "stream",
          "text": [
            "The DCT of the above signal is: [101.823 -51.539  -0.     -5.388   0.     -1.607  -0.     -0.406] \n",
            "\n"
          ],
          "name": "stdout"
        }
      ]
    },
    {
      "cell_type": "markdown",
      "metadata": {
        "id": "NAu0jS3QMQx2"
      },
      "source": [
        "### Q2. Now keep only the first four DCT coefficients while discarding the rest and then compare its energy with that of x[n]."
      ]
    },
    {
      "cell_type": "code",
      "metadata": {
        "colab": {
          "base_uri": "https://localhost:8080/"
        },
        "id": "XFF85EUOMVNo",
        "outputId": "89278058-4beb-4fcb-a548-0e40fb3db874"
      },
      "source": [
        "a = np.concatenate([X[:4],np.zeros(4)])\r\n",
        "\r\n",
        "E1 = sum(x**2)\r\n",
        "E1 = round(E1,4)\r\n",
        "print(\"Energy before applying DCT:\",E1,\"\\n\")\r\n",
        "\r\n",
        "E2 = sum(a**2)\r\n",
        "E2 = round(E2,4)\r\n",
        "print(\"Energy after applying DCT:\",E2,\"\\n\")\r\n"
      ],
      "execution_count": 19,
      "outputs": [
        {
          "output_type": "stream",
          "text": [
            "Energy before applying DCT: 13056 \n",
            "\n",
            "Energy after applying DCT: 13053.2224 \n",
            "\n"
          ],
          "name": "stdout"
        }
      ]
    },
    {
      "cell_type": "markdown",
      "metadata": {
        "id": "L0Vh-D0rMw45"
      },
      "source": [
        "### Q3. Compute the inverse DCT of the sequence obtained and plot it alongside x[n]. Also compute the mean square error between the two signals."
      ]
    },
    {
      "cell_type": "code",
      "metadata": {
        "colab": {
          "base_uri": "https://localhost:8080/",
          "height": 450
        },
        "id": "-btxbcv3M3qe",
        "outputId": "7b8d2966-2efd-4415-c70b-54e4cbb22aa5"
      },
      "source": [
        "y = IDCT(a)\r\n",
        "print(\"The inverse DCT of the above signal is:\",y,\"\\n\")\r\n",
        "\r\n",
        "mse = np.mean(np.square(x-y))*100\r\n",
        "print(\"Mean square error between the two signals:\",round(mse,2),\"\\n\\n\")\r\n",
        "\r\n",
        "plt.figure(figsize=(10,5))\r\n",
        "plt.grid()\r\n",
        "plt.xlabel(\"n\")\r\n",
        "plt.ylabel(\"Magnitude\")\r\n",
        "plt.title(\"Plot of original sequence x[n] and inverse from the DCT\")\r\n",
        "plt.stem(n,x)\r\n",
        "plt.stem(n+0.05,y,'r',markerfmt=\"ro\")\r\n",
        "plt.legend([\"Original sequence\",\"From inverse DCT\"])"
      ],
      "execution_count": 20,
      "outputs": [
        {
          "output_type": "stream",
          "text": [
            "The inverse DCT of the above signal is: [ 8.486 15.099 24.325 32.469 39.531 47.674 56.901 63.514] \n",
            "\n",
            "Mean square error between the two signals: 34.35 \n",
            "\n",
            "\n"
          ],
          "name": "stdout"
        },
        {
          "output_type": "execute_result",
          "data": {
            "text/plain": [
              "<matplotlib.legend.Legend at 0x7f6f85e52438>"
            ]
          },
          "metadata": {
            "tags": []
          },
          "execution_count": 20
        },
        {
          "output_type": "display_data",
          "data": {
            "image/png": "[encoded data removed]",
            "text/plain": [
              "<Figure size 720x360 with 1 Axes>"
            ]
          },
          "metadata": {
            "tags": [],
            "needs_background": "light"
          }
        }
      ]
    },
    {
      "cell_type": "markdown",
      "metadata": {
        "id": "Xlzs6NyANvPh"
      },
      "source": [
        "### Q4. Now repeat the same process with DFT and compare the mean square errors. Comment on your observations."
      ]
    },
    {
      "cell_type": "code",
      "metadata": {
        "colab": {
          "base_uri": "https://localhost:8080/",
          "height": 600
        },
        "id": "IQQupFZBNy-n",
        "outputId": "45bbc3dc-93db-43d4-fd40-8bc7e78d9bbc"
      },
      "source": [
        "n = np.arange(8)\r\n",
        "x = np.array([8, 16, 24, 32, 40, 48, 56, 64]) \r\n",
        "X = DFT(x)\r\n",
        "print(\"The DFT of the above signal is:\",np.abs(X),\"\\n\\n\")\r\n",
        "\r\n",
        "a = np.concatenate([X[:4],np.zeros(4)])\r\n",
        "\r\n",
        "E1 = sum(x**2)\r\n",
        "print(\"Energy before applying DFT:\",E1,\"\\n\")\r\n",
        "\r\n",
        "E2 = sum(abs(a)**2)/8\r\n",
        "print(\"Energy after applying DFT:\",E2,\"\\n\")\r\n",
        "\r\n",
        "y = np.abs(IDFT(a))\r\n",
        "print(\"The inverse DFT of the above signal is:\",y,\"\\n\")\r\n",
        "\r\n",
        "mse = np.mean(np.square(abs(x-y)))*100\r\n",
        "print(\"Mean square error between the two signals:\",round(mse,2),\"\\n\\n\")\r\n",
        "\r\n",
        "plt.figure(figsize=(10,5))\r\n",
        "plt.grid()\r\n",
        "plt.xlabel(\"n\")\r\n",
        "plt.ylabel(\"Magnitude\")\r\n",
        "plt.title(\"Plot of original sequence x[n] and inverse from the DFT\")\r\n",
        "plt.stem(n,x)\r\n",
        "plt.stem(n+0.05,abs(y),'r',markerfmt=\"ro\")\r\n",
        "plt.legend([\"Original sequence\",\"From inverse DFT\"])\r\n",
        "\r\n"
      ],
      "execution_count": 16,
      "outputs": [
        {
          "output_type": "stream",
          "text": [
            "The DFT of the above signal is: [288.          83.62002975  45.254834    34.63655041  32.\n",
            "  34.63655041  45.254834    83.62002975] \n",
            "\n",
            "\n",
            "Energy before applying DFT: 13056 \n",
            "\n",
            "Energy after applying DFT: 11648.0 \n",
            "\n",
            "The inverse DFT of the above signal is: [28.46945229 24.33105012 32.24903099 32.82514819 40.66313261 40.19950248\n",
            " 48.16637832 50.38362545] \n",
            "\n",
            "Mean square error between the two signals: 10814.89 \n",
            "\n",
            "\n"
          ],
          "name": "stdout"
        },
        {
          "output_type": "execute_result",
          "data": {
            "text/plain": [
              "<matplotlib.legend.Legend at 0x7f6f85fd6d30>"
            ]
          },
          "metadata": {
            "tags": []
          },
          "execution_count": 16
        },
        {
          "output_type": "display_data",
          "data": {
            "image/png": "[encoded data removed]",
            "text/plain": [
              "<Figure size 720x360 with 1 Axes>"
            ]
          },
          "metadata": {
            "tags": [],
            "needs_background": "light"
          }
        }
      ]
    }
  ]
}