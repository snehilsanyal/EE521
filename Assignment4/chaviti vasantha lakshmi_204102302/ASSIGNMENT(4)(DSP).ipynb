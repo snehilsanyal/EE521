{
 "cells": [
  {
   "cell_type": "markdown",
   "metadata": {},
   "source": [
    "# **ASSIGNMENT-4"
   ]
  },
  {
   "cell_type": "code",
   "execution_count": 1,
   "metadata": {},
   "outputs": [],
   "source": [
    "import matplotlib.pyplot as plt\n",
    "import numpy as np"
   ]
  },
  {
   "cell_type": "markdown",
   "metadata": {},
   "source": [
    "# **Discrete Fourier Transform"
   ]
  },
  {
   "cell_type": "markdown",
   "metadata": {},
   "source": [
    "1.Write functions to implement the dft and idft"
   ]
  },
  {
   "cell_type": "code",
   "execution_count": 2,
   "metadata": {},
   "outputs": [],
   "source": [
    "#function for implementing dft\n",
    "\n",
    "def dft(x):\n",
    "    t = []\n",
    "    N = len(x)\n",
    "    for k in range(N):\n",
    "        a = 0\n",
    "        for n in range(N):\n",
    "            a += x[n]*np.exp(-2j*np.pi*k*n*(1/N))\n",
    "        t.append(a)\n",
    "    return t\n",
    "\n",
    "#function for implementing idft\n",
    "\n",
    "def idft(t):\n",
    "    x = []\n",
    "    N = len(t)\n",
    "    for n in range(N):\n",
    "        a = 0\n",
    "        for k in range(N):\n",
    "            a += t[k]*np.exp((2j*np.pi*k*n)/N)\n",
    "        a /= N\n",
    "        x.append(a)\n",
    "    return x"
   ]
  },
  {
   "cell_type": "markdown",
   "metadata": {},
   "source": [
    "2.Write a function to compute the circular convolution of two sequences.\n",
    "Find the circular convolution of x = [1, 2, 3, 0, 0, 0, 0] and h = [1, 1, 1, 1, 1, 1, 1] using the function"
   ]
  },
  {
   "cell_type": "code",
   "execution_count": 3,
   "metadata": {},
   "outputs": [
    {
     "name": "stdout",
     "output_type": "stream",
     "text": [
      "circular convolution of x & h = [6. 6. 6. 6. 6. 6. 6.]\n"
     ]
    },
    {
     "data": {
      "text/plain": [
       "<Figure size 432x288 with 0 Axes>"
      ]
     },
     "metadata": {},
     "output_type": "display_data"
    },
    {
     "data": {
      "image/png": "[encoded data removed]",
      "text/plain": [
       "<Figure size 1440x360 with 3 Axes>"
      ]
     },
     "metadata": {
      "needs_background": "light"
     },
     "output_type": "display_data"
    }
   ],
   "source": [
    "#function for implementing circular convolution of two sequences\n",
    "\n",
    "def comp_circ_conv(filt,seqn):\n",
    "    L = len(filt)\n",
    "    M = len(seqn)\n",
    "    N = max(L,M)\n",
    "    filtN = np.zeros(N)\n",
    "    seqnN = np.zeros(N)\n",
    "    Hx = np.zeros(N)\n",
    "    filtN[:L] = filt[:]\n",
    "    filtNflip = filtN[::-1,...]\n",
    "    filtNflip = np.roll(filtNflip,1)\n",
    "    seqnN[:M] = seqn[:]\n",
    "    for k in range(N):\n",
    "        ht = np.roll(filtNflip,k)\n",
    "        Hx[k] = sum(seqnN * ht)\n",
    "    draw_seqn_and_filt(filtN,seqnN,Hx)\n",
    "    return Hx\n",
    "\n",
    "#function for plotting input,filter,output\n",
    "\n",
    "def draw_seqn_and_filt(filt,seqn,conv):\n",
    "    plt.figure(1)\n",
    "    fig = plt.figure(10,figsize=(20,5))\n",
    "    plt.subplot(131)\n",
    "    plt.title('Input sequence-->x',color='r',size=20)\n",
    "    plt.stem(seqn,linefmt='g',markerfmt ='d',use_line_collection=True)\n",
    "    \n",
    "    plt.subplot(132)\n",
    "    plt.title('Filter-->h',color='r',size=20)\n",
    "    plt.stem(filt,linefmt='y',markerfmt ='d',use_line_collection=True)\n",
    "    \n",
    "    plt.subplot(133)\n",
    "    plt.title('Circular convolution of x & h',color='r',size=20)\n",
    "    print('circular convolution of x & h =',np.array(conv))\n",
    "    plt.stem(conv,linefmt='c',markerfmt ='d',use_line_collection=True)\n",
    "    \n",
    "filt=[1, 1, 1, 1, 1, 1, 1]\n",
    "seqn=[1, 2, 3, 0, 0, 0,0]\n",
    "Circular_convolution=comp_circ_conv(filt,seqn)"
   ]
  },
  {
   "cell_type": "markdown",
   "metadata": {},
   "source": [
    "3.A signal is given as x(t) = cos2πf t where f = 30 Hz. The signal is sampled\n",
    "at 100 times per second for 10 seconds and then its DFT is computed. Plot\n",
    "the spectrum versus frequency in Hz. What is the magnitude of DFT at\n",
    "35 Hz? Is this value non-zero? If so then why?"
   ]
  },
  {
   "cell_type": "code",
   "execution_count": 4,
   "metadata": {},
   "outputs": [
    {
     "name": "stdout",
     "output_type": "stream",
     "text": [
      "The magnitude of DFT at 35 Hz is non-zero\n"
     ]
    },
    {
     "data": {
      "image/png": "[encoded data removed]",
      "text/plain": [
       "<Figure size 576x288 with 1 Axes>"
      ]
     },
     "metadata": {
      "needs_background": "light"
     },
     "output_type": "display_data"
    }
   ],
   "source": [
    "fig = plt.figure(1,figsize=(8,4))\n",
    "t1 = np.arange(0,0.91,0.01)\n",
    "f=30\n",
    "x_t=np.cos(2*np.pi*f*t1)\n",
    "xt_dft=dft(x_t)\n",
    "w=np.array(np.abs(xt_dft),dtype='complex')\n",
    "plt.stem(w,linefmt='c',markerfmt ='.',use_line_collection=True)\n",
    "plt.xlabel('frequency(Hz)',size=14)\n",
    "plt.ylabel('magnitude',size=14)\n",
    "print('The magnitude of DFT at 35 Hz is non-zero')"
   ]
  },
  {
   "cell_type": "markdown",
   "metadata": {},
   "source": [
    "4.Consider the two sequences x = [1, −3, 1, 5] and y = [7, −7, −9, −3]. Does\n",
    "there exist a sequence h such that y is the circular convolution of x and\n",
    "h. Find h using DFT and IDFT."
   ]
  },
  {
   "cell_type": "code",
   "execution_count": 5,
   "metadata": {},
   "outputs": [
    {
     "name": "stdout",
     "output_type": "stream",
     "text": [
      "Impulse reponse--> (h[n]) using dft & idft =  [-0.0245098  -0.31862745 -0.14215686  0.15196078]\n"
     ]
    }
   ],
   "source": [
    "x = np.array([7,-7,-9,-3])\n",
    "y = np.array([1,-3,1,5])\n",
    "x1 = dft(x)\n",
    "y1 = dft(y)\n",
    "h1 = [y1/x1 for y1,x1 in zip(y1,x1)]\n",
    "h11 = idft(h1)\n",
    "print('Impulse reponse--> (h[n]) using dft & idft = ',np.real(h11))"
   ]
  },
  {
   "cell_type": "markdown",
   "metadata": {},
   "source": [
    "5.Compute the energy of the signal x[n] = (3/4)nu[n] for 0 ≤ n ≤ 50. If the\n",
    "DFT of this signal is X(k) then what is the energy of X(k) and how does\n",
    "it relate to that of x[n]"
   ]
  },
  {
   "cell_type": "code",
   "execution_count": 6,
   "metadata": {},
   "outputs": [
    {
     "name": "stdout",
     "output_type": "stream",
     "text": [
      "Energy of the signal-->(E(x[n])) = 2.29\n",
      "\n",
      "Energy of the dft of the signal-->(E(x[k])) = 114.29\n",
      "\n",
      "Energy of the dft of the signal / N -->(E(x[k])/N) = 2.29\n",
      "\n",
      "\"\"\"\"\"\"E(x[n]) = (E(x[k]))/N\"\"\"\"\"\"(where N is the time period of the sequence)\n"
     ]
    }
   ],
   "source": [
    "x1=[((3/4)**i) for i in range(0,50)]\n",
    "y1=sum((np.abs(x1[i])**2) for i in range(len(x1)))\n",
    "print('Energy of the signal-->(E(x[n])) =',np.round(y1,2))\n",
    "q=dft(x1)\n",
    "y2=sum((np.abs(q[i])**2) for i in range(len(x1)))\n",
    "N2=len(x1)\n",
    "y3=(1/N2)*sum((np.abs(q[i])**2) for i in range(len(x1)))\n",
    "print('\\nEnergy of the dft of the signal-->(E(x[k])) =',np.round(y2,2))\n",
    "print('\\nEnergy of the dft of the signal / N -->(E(x[k])/N) =',np.round(y3,2))\n",
    "print('\\n\"\"\"\"\"\"E(x[n]) = (E(x[k]))/N\"\"\"\"\"\"(where N is the time period of the sequence)')"
   ]
  },
  {
   "cell_type": "markdown",
   "metadata": {},
   "source": [
    "# **Discrete Cosine Transform"
   ]
  },
  {
   "cell_type": "markdown",
   "metadata": {},
   "source": [
    "1.Write functions to implement the dct and idct"
   ]
  },
  {
   "cell_type": "code",
   "execution_count": 7,
   "metadata": {},
   "outputs": [],
   "source": [
    "#function for implementing dct\n",
    "\n",
    "def dct1(x1):\n",
    "    t = []\n",
    "    N = len(x1)\n",
    "    for m in range(N):\n",
    "        x = 0\n",
    "        for n in range(N):\n",
    "            if  m == 0:\n",
    "                x += (np.sqrt(2/N))*((x1[n])*(np.sqrt(1/2))*(np.cos(((np.pi*m)/(2*N))*(2*n+1))))\n",
    "            else:\n",
    "                x += (np.sqrt(2/N))*((x1[n])*1*(np.cos(((np.pi*m)/(2*N))*(2*n+1))))\n",
    "        t.append(x)\n",
    "    return t\n",
    "\n",
    "#function for implementing idct\n",
    "\n",
    "def idct1(x1):\n",
    "    t = []\n",
    "    N = len(x1)\n",
    "    for n in range(N):\n",
    "        x = 0\n",
    "        for m in range(N):\n",
    "            if  m == 0:\n",
    "                x += (np.sqrt(2/N))*((x1[m])*(np.sqrt(1/2))*np.cos(((np.pi*m)/(2*N))*(2*n+1)))\n",
    "            else:\n",
    "                x += (np.sqrt(2/N))*((x1[m])*1*np.cos(((np.pi*m)/(2*N))*(2*n+1)))\n",
    "        t.append(x)\n",
    "    return t\n",
    "\n",
    "#functions for energy and mean square error\n",
    "\n",
    "def energy(x1):\n",
    "    energy=sum((np.abs(x1[i])**2) for i in range(len(x1)))\n",
    "    return energy\n",
    "\n",
    "def meansquareerror(a,b):\n",
    "    N=len(a)\n",
    "    f1=[(a[i]-b[i])**2 for i in range(N)]\n",
    "    f2=sum(np.abs(f1))\n",
    "    return f2/N   "
   ]
  },
  {
   "cell_type": "markdown",
   "metadata": {},
   "source": [
    "2.Consider a signal x[n] = [8, 16, 24, 32, 40, 48, 56, 64] of length N = 8. Compute the DCT of this signal. Now keep only the first four DCT coefficients\n",
    "while discarding the rest and then compare its energy with that of x[n].\n",
    "Compute the inverse DCT of the sequence obtained and plot it alongside\n",
    "x[n]. Also compute the mean square error between the two signals"
   ]
  },
  {
   "cell_type": "code",
   "execution_count": 8,
   "metadata": {},
   "outputs": [
    {
     "name": "stdout",
     "output_type": "stream",
     "text": [
      " x[n] = [8, 16, 24, 32, 40, 48, 56, 64]\n",
      "\n",
      " dct of the sequence-->x[k] =  [102. -52.  -0.  -5.   0.  -2.  -0.  -0.]\n",
      "\n",
      " idct of the sequence-->x[n] =  [ 8. 16. 24. 32. 40. 48. 56. 64.]\n",
      "\n",
      " energy of the sequence-->E(x[n]) = 13056\n",
      "\n",
      " energy of the dct coefficients-->E(x[k]) =  13053.252\n",
      "\n",
      " mean_square_error of x[n] and idct =  3.8575298265307477e-28\n"
     ]
    },
    {
     "data": {
      "text/plain": [
       "<StemContainer object of 3 artists>"
      ]
     },
     "execution_count": 8,
     "metadata": {},
     "output_type": "execute_result"
    },
    {
     "data": {
      "image/png": "[encoded data removed]",
      "text/plain": [
       "<Figure size 1080x288 with 2 Axes>"
      ]
     },
     "metadata": {
      "needs_background": "light"
     },
     "output_type": "display_data"
    }
   ],
   "source": [
    "xn = [8, 16, 24, 32, 40, 48, 56, 64]\n",
    "d=dct1(xn)\n",
    "d1=d[:4]\n",
    "d3=idct1(d)\n",
    "print(' x[n] =',xn)\n",
    "print('\\n dct of the sequence-->x[k] = ',np.round(d))\n",
    "print('\\n idct of the sequence-->x[n] = ',np.round(d3))\n",
    "print('\\n energy of the sequence-->E(x[n]) =',energy(xn))\n",
    "print('\\n energy of the dct coefficients-->E(x[k]) = ',np.round(energy(d1),3))\n",
    "print('\\n mean_square_error of x[n] and idct = ',meansquareerror(xn,d3))\n",
    "fig = plt.figure(1,figsize=(15,4))\n",
    "plt.subplot(1,2,1)\n",
    "plt.title('Input sequence-->x[n]',color='r',size=20)\n",
    "plt.stem(xn,linefmt='y',use_line_collection=True)\n",
    "plt.subplot(1,2,2)\n",
    "plt.title('IDCT sequence of x[n]',color='r',size=20)\n",
    "plt.stem(d3,linefmt='c',use_line_collection=True)"
   ]
  },
  {
   "cell_type": "markdown",
   "metadata": {},
   "source": [
    "3.Now repeat the same process with DFT and compare the mean square\n",
    "errors. Comment on your observations"
   ]
  },
  {
   "cell_type": "code",
   "execution_count": 9,
   "metadata": {},
   "outputs": [
    {
     "name": "stdout",
     "output_type": "stream",
     "text": [
      "x[n]  = [8, 16, 24, 32, 40, 48, 56, 64]\n",
      "\n",
      "dft of the sequence-->x[k] =  [288.  84.  45.  35.  32.  35.  45.  84.]\n",
      "\n",
      "idft of the sequence-->x[n] =  [(7.999999999999992-5.329070518200751e-15j), (16.000000000000014+1.9539925233402755e-14j), (24.00000000000005-3.419486915845482e-14j), (31.99999999999997-3.552713678800501e-14j), (39.99999999999997-1.7763568394002505e-14j), (48+1.199040866595169e-14j), (56+5.0182080713057076e-14j), (63.99999999999999-1.7763568394002505e-14j)]\n",
      "\n",
      "energy of the sequence-->E(x[n]) = 13056\n",
      "\n",
      "energy of the dft coefficients-->E(x[k]) =  93184.0\n",
      "\n",
      "mean_square_error of x[n] & idct =  1.3175702750421068e-27\n"
     ]
    }
   ],
   "source": [
    "xn = [8, 16, 24, 32, 40, 48, 56, 64]\n",
    "d=dft(xn)\n",
    "d3=idft(d)\n",
    "print('x[n]  =',xn)\n",
    "print('\\ndft of the sequence-->x[k] = ',np.round(np.abs(d)))\n",
    "print('\\nidft of the sequence-->x[n] = ',d3)\n",
    "print('\\nenergy of the sequence-->E(x[n]) =',energy(xn))\n",
    "d1=d[:4]\n",
    "print('\\nenergy of the dft coefficients-->E(x[k]) = ',energy(d1))\n",
    "print('\\nmean_square_error of x[n] & idct = ',meansquareerror(xn,d3))"
   ]
  },
  {
   "cell_type": "markdown",
   "metadata": {},
   "source": [
    "\"\"\"\"\"\"Mean square error of x[n] & idct of x[n] is small \n",
    "and the Mean square error of x[n] & idft of x[n] is high\"\"\"\"\"\""
   ]
  },
  {
   "cell_type": "code",
   "execution_count": null,
   "metadata": {},
   "outputs": [],
   "source": []
  }
 ],
 "metadata": {
  "kernelspec": {
   "display_name": "Python 3",
   "language": "python",
   "name": "python3"
  },
  "language_info": {
   "codemirror_mode": {
    "name": "ipython",
    "version": 3
   },
   "file_extension": ".py",
   "mimetype": "text/x-python",
   "name": "python",
   "nbconvert_exporter": "python",
   "pygments_lexer": "ipython3",
   "version": "3.8.3"
  }
 },
 "nbformat": 4,
 "nbformat_minor": 4
}
